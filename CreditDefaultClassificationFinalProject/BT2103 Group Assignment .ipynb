{
 "cells": [
  {
   "cell_type": "markdown",
   "id": "5066522f",
   "metadata": {},
   "source": [
    "# BT2103 GROUP ASSIGNMENT"
   ]
  },
  {
   "cell_type": "markdown",
   "id": "d38a21a9",
   "metadata": {},
   "source": [
    "#### Introduction to the Dataset and Problem Statement\n",
    "\n",
    "The cash and credit card debt problem that Taiwan's credit card issuers experienced in recent years is predicted to peak in the third quarter of 2006 (Chou, 2006). Taiwan's card-issuing banks overissued cash and credit cards to unqualified applicants in an effort to gain market dominance. In addition, most cardholders, regardless of their capacity to pay back, abused their cards for consumption and racked up large credit and cash-card debt. The crisis damaged consumer confidence in finance, and therefore presents a significant problem for both banks and cardholders.\n",
    "\n",
    "Crisis management and risk prediction take place upstream and downstream in a mature financial system, respectively. The main goal of risk prediction is to lessen the harm and uncertainty caused by corporate performance or individual customer credit risk by using financial information, such as business financial statements, customer transaction and repayment histories, etc.\n",
    "\n",
    "Therefore, with extensive data collected from the period of April to September in 2005, this report aims to build a predictive model to accurately forecast clients who have tendencies to default on the bank and thus ensures the profitability and stability of banks. \n",
    "\n",
    "In the dataset, there are 23 explanatory variables, together with a dependent variable of client's default status. The detailed description is as follows:\n",
    "X1: Amount of the given credit (NT dollar): it includes\n",
    "both the individual consumer credit and his/her family\n",
    "(supplementary) credit.\n",
    "\n",
    "X2: Gender (1 = male; 2 = female).\n",
    "\n",
    "X3: Education (1 = graduate school; 2 = university;\n",
    "3 = high school; 4 = others).\n",
    "\n",
    "X4: Marital status (1 = married; 2 = single; 3 = others).\n",
    "\n",
    "X5: Age (year).\n",
    "\n",
    "X6–X11: History of past payment. We tracked the past\n",
    "monthly payment records (from April to September,\n",
    "2005) as follows: X6 = the repayment status in September, 2005; X7 = the repayment status in August,\n",
    "2005;. . .;X11 = the repayment status in April, 2005.\n",
    "The measurement scale for the repayment status is:\n",
    "-1 = pay duly; 1 = payment delay for one month;\n",
    "2 = payment delay for two months; . . .; 8 = payment\n",
    "delay for eight months; 9 = payment delay for nine\n",
    "months and above.\n",
    "\n",
    "X12–X17: Amount of bill statement (NT dollar).\n",
    "X12 = amount of bill statement in September, 2005;\n",
    "X13 = amount of bill statement in August,\n",
    "2005;. . .;X17 = amount of bill statement in April, 2005.\n",
    "\n",
    "X18–X23: Amount of previous payment (NT dollar). X18 = amount paid in September, 2005; X19 = amount\n",
    "paid in August, 2005;. . .;X23 = amount paid in April,\n",
    "2005."
   ]
  },
  {
   "cell_type": "markdown",
   "id": "6e7e1762",
   "metadata": {},
   "source": [
    "#### Table of Contents\n",
    "\n",
    "The overall structure of our report is as follows:\n",
    "\n",
    "1. Loading and first look into the dataset, as well as the variable classes and number of observations in our dataset. Some obvious errors such as presence of NA values will be taken care for in this phase as well. \n",
    "\n",
    "2. Exploratory data analysis on the dataset to describe and understand the dataset. \n",
    "\n",
    "3. Data pre-processing and optimisation of the dataset. All illogical data points will be taken care for in this phase.\n",
    "\n",
    "4. Filter, wrapper and embedded feature selection methods will be utilised to find out the most important variables that may contribute to the final prediction model. \n",
    "\n",
    "5. Different models will be run to find out the most accurate prediction model for clients default statement. \n",
    "\n",
    "6. Based on our evaluation criterias for the model (accuracy, ROC/AUC curves, harmonic mean and null accuracy), each model will be evaluated and the predictive model that performs best will be selected as the preferred model. \n",
    "\n",
    "7. Discussions on ways to improve the model and some potential data integrity issues in the dataset. "
   ]
  },
  {
   "cell_type": "code",
   "execution_count": 1,
   "id": "2a0c81f2",
   "metadata": {
    "vscode": {
     "languageId": "r"
    }
   },
   "outputs": [
    {
     "name": "stderr",
     "output_type": "stream",
     "text": [
      "Registered S3 methods overwritten by 'ggplot2':\n",
      "  method         from \n",
      "  [.quosures     rlang\n",
      "  c.quosures     rlang\n",
      "  print.quosures rlang\n",
      "\n",
      "Attaching package: 'dplyr'\n",
      "\n",
      "The following objects are masked from 'package:stats':\n",
      "\n",
      "    filter, lag\n",
      "\n",
      "The following objects are masked from 'package:base':\n",
      "\n",
      "    intersect, setdiff, setequal, union\n",
      "\n",
      "Registered S3 method overwritten by 'rvest':\n",
      "  method            from\n",
      "  read_xml.response xml2\n",
      "-- Attaching packages --------------------------------------- tidyverse 1.2.1 --\n",
      "v tibble  2.1.1     v purrr   0.3.2\n",
      "v tidyr   0.8.3     v stringr 1.4.0\n",
      "v readr   1.3.1     v forcats 0.4.0\n",
      "-- Conflicts ------------------------------------------ tidyverse_conflicts() --\n",
      "x dplyr::filter() masks stats::filter()\n",
      "x dplyr::lag()    masks stats::lag()\n"
     ]
    },
    {
     "data": {
      "text/html": [
       "<table>\n",
       "<thead><tr><th scope=col>ï..</th><th scope=col>X1</th><th scope=col>X2</th><th scope=col>X3</th><th scope=col>X4</th><th scope=col>X5</th><th scope=col>X6</th><th scope=col>X7</th><th scope=col>X8</th><th scope=col>X9</th><th scope=col>...</th><th scope=col>X15</th><th scope=col>X16</th><th scope=col>X17</th><th scope=col>X18</th><th scope=col>X19</th><th scope=col>X20</th><th scope=col>X21</th><th scope=col>X22</th><th scope=col>X23</th><th scope=col>Y</th></tr></thead>\n",
       "<tbody>\n",
       "\t<tr><td>ID                        </td><td>LIMIT_BAL                 </td><td>SEX                       </td><td>EDUCATION                 </td><td>MARRIAGE                  </td><td>AGE                       </td><td>PAY_0                     </td><td>PAY_2                     </td><td>PAY_3                     </td><td>PAY_4                     </td><td>...                       </td><td>BILL_AMT4                 </td><td>BILL_AMT5                 </td><td>BILL_AMT6                 </td><td>PAY_AMT1                  </td><td>PAY_AMT2                  </td><td>PAY_AMT3                  </td><td>PAY_AMT4                  </td><td>PAY_AMT5                  </td><td>PAY_AMT6                  </td><td>default payment next month</td></tr>\n",
       "\t<tr><td>1                         </td><td>20000                     </td><td>2                         </td><td>2                         </td><td>1                         </td><td>24                        </td><td>2                         </td><td>2                         </td><td>-1                        </td><td>-1                        </td><td>...                       </td><td>0                         </td><td>0                         </td><td>0                         </td><td>0                         </td><td>689                       </td><td>0                         </td><td>0                         </td><td>0                         </td><td>0                         </td><td>1                         </td></tr>\n",
       "\t<tr><td>2                         </td><td>120000                    </td><td>2                         </td><td>2                         </td><td>2                         </td><td>26                        </td><td>-1                        </td><td>2                         </td><td>0                         </td><td>0                         </td><td>...                       </td><td>3272                      </td><td>3455                      </td><td>3261                      </td><td>0                         </td><td>1000                      </td><td>1000                      </td><td>1000                      </td><td>0                         </td><td>2000                      </td><td>1                         </td></tr>\n",
       "\t<tr><td>3                         </td><td>90000                     </td><td>2                         </td><td>2                         </td><td>2                         </td><td>34                        </td><td>0                         </td><td>0                         </td><td>0                         </td><td>0                         </td><td>...                       </td><td>14331                     </td><td>14948                     </td><td>15549                     </td><td>1518                      </td><td>1500                      </td><td>1000                      </td><td>1000                      </td><td>1000                      </td><td>5000                      </td><td>0                         </td></tr>\n",
       "\t<tr><td>4                         </td><td>50000                     </td><td>2                         </td><td>2                         </td><td>1                         </td><td>37                        </td><td>0                         </td><td>0                         </td><td>0                         </td><td>0                         </td><td>...                       </td><td>28314                     </td><td>28959                     </td><td>29547                     </td><td>2000                      </td><td>2019                      </td><td>1200                      </td><td>1100                      </td><td>1069                      </td><td>1000                      </td><td>0                         </td></tr>\n",
       "\t<tr><td>5                         </td><td>50000                     </td><td>1                         </td><td>2                         </td><td>1                         </td><td>57                        </td><td>-1                        </td><td>0                         </td><td>-1                        </td><td>0                         </td><td>...                       </td><td>20940                     </td><td>19146                     </td><td>19131                     </td><td>2000                      </td><td>36681                     </td><td>10000                     </td><td>9000                      </td><td>689                       </td><td>679                       </td><td>0                         </td></tr>\n",
       "</tbody>\n",
       "</table>\n"
      ],
      "text/latex": [
       "\\begin{tabular}{r|lllllllllllllllllllllllll}\n",
       " ï.. & X1 & X2 & X3 & X4 & X5 & X6 & X7 & X8 & X9 & ... & X15 & X16 & X17 & X18 & X19 & X20 & X21 & X22 & X23 & Y\\\\\n",
       "\\hline\n",
       "\t ID                         & LIMIT\\_BAL                & SEX                        & EDUCATION                  & MARRIAGE                   & AGE                        & PAY\\_0                    & PAY\\_2                    & PAY\\_3                    & PAY\\_4                    & ...                        & BILL\\_AMT4                & BILL\\_AMT5                & BILL\\_AMT6                & PAY\\_AMT1                 & PAY\\_AMT2                 & PAY\\_AMT3                 & PAY\\_AMT4                 & PAY\\_AMT5                 & PAY\\_AMT6                 & default payment next month\\\\\n",
       "\t 1                          & 20000                      & 2                          & 2                          & 1                          & 24                         & 2                          & 2                          & -1                         & -1                         & ...                        & 0                          & 0                          & 0                          & 0                          & 689                        & 0                          & 0                          & 0                          & 0                          & 1                         \\\\\n",
       "\t 2                          & 120000                     & 2                          & 2                          & 2                          & 26                         & -1                         & 2                          & 0                          & 0                          & ...                        & 3272                       & 3455                       & 3261                       & 0                          & 1000                       & 1000                       & 1000                       & 0                          & 2000                       & 1                         \\\\\n",
       "\t 3                          & 90000                      & 2                          & 2                          & 2                          & 34                         & 0                          & 0                          & 0                          & 0                          & ...                        & 14331                      & 14948                      & 15549                      & 1518                       & 1500                       & 1000                       & 1000                       & 1000                       & 5000                       & 0                         \\\\\n",
       "\t 4                          & 50000                      & 2                          & 2                          & 1                          & 37                         & 0                          & 0                          & 0                          & 0                          & ...                        & 28314                      & 28959                      & 29547                      & 2000                       & 2019                       & 1200                       & 1100                       & 1069                       & 1000                       & 0                         \\\\\n",
       "\t 5                          & 50000                      & 1                          & 2                          & 1                          & 57                         & -1                         & 0                          & -1                         & 0                          & ...                        & 20940                      & 19146                      & 19131                      & 2000                       & 36681                      & 10000                      & 9000                       & 689                        & 679                        & 0                         \\\\\n",
       "\\end{tabular}\n"
      ],
      "text/markdown": [
       "\n",
       "| ï.. | X1 | X2 | X3 | X4 | X5 | X6 | X7 | X8 | X9 | ... | X15 | X16 | X17 | X18 | X19 | X20 | X21 | X22 | X23 | Y |\n",
       "|---|---|---|---|---|---|---|---|---|---|---|---|---|---|---|---|---|---|---|---|---|\n",
       "| ID                         | LIMIT_BAL                  | SEX                        | EDUCATION                  | MARRIAGE                   | AGE                        | PAY_0                      | PAY_2                      | PAY_3                      | PAY_4                      | ...                        | BILL_AMT4                  | BILL_AMT5                  | BILL_AMT6                  | PAY_AMT1                   | PAY_AMT2                   | PAY_AMT3                   | PAY_AMT4                   | PAY_AMT5                   | PAY_AMT6                   | default payment next month |\n",
       "| 1                          | 20000                      | 2                          | 2                          | 1                          | 24                         | 2                          | 2                          | -1                         | -1                         | ...                        | 0                          | 0                          | 0                          | 0                          | 689                        | 0                          | 0                          | 0                          | 0                          | 1                          |\n",
       "| 2                          | 120000                     | 2                          | 2                          | 2                          | 26                         | -1                         | 2                          | 0                          | 0                          | ...                        | 3272                       | 3455                       | 3261                       | 0                          | 1000                       | 1000                       | 1000                       | 0                          | 2000                       | 1                          |\n",
       "| 3                          | 90000                      | 2                          | 2                          | 2                          | 34                         | 0                          | 0                          | 0                          | 0                          | ...                        | 14331                      | 14948                      | 15549                      | 1518                       | 1500                       | 1000                       | 1000                       | 1000                       | 5000                       | 0                          |\n",
       "| 4                          | 50000                      | 2                          | 2                          | 1                          | 37                         | 0                          | 0                          | 0                          | 0                          | ...                        | 28314                      | 28959                      | 29547                      | 2000                       | 2019                       | 1200                       | 1100                       | 1069                       | 1000                       | 0                          |\n",
       "| 5                          | 50000                      | 1                          | 2                          | 1                          | 57                         | -1                         | 0                          | -1                         | 0                          | ...                        | 20940                      | 19146                      | 19131                      | 2000                       | 36681                      | 10000                      | 9000                       | 689                        | 679                        | 0                          |\n",
       "\n"
      ],
      "text/plain": [
       "  ï.. X1        X2  X3        X4       X5  X6    X7    X8    X9    ...\n",
       "1 ID  LIMIT_BAL SEX EDUCATION MARRIAGE AGE PAY_0 PAY_2 PAY_3 PAY_4 ...\n",
       "2 1   20000     2   2         1        24  2     2     -1    -1    ...\n",
       "3 2   120000    2   2         2        26  -1    2     0     0     ...\n",
       "4 3   90000     2   2         2        34  0     0     0     0     ...\n",
       "5 4   50000     2   2         1        37  0     0     0     0     ...\n",
       "6 5   50000     1   2         1        57  -1    0     -1    0     ...\n",
       "  X15       X16       X17       X18      X19      X20      X21      X22     \n",
       "1 BILL_AMT4 BILL_AMT5 BILL_AMT6 PAY_AMT1 PAY_AMT2 PAY_AMT3 PAY_AMT4 PAY_AMT5\n",
       "2 0         0         0         0        689      0        0        0       \n",
       "3 3272      3455      3261      0        1000     1000     1000     0       \n",
       "4 14331     14948     15549     1518     1500     1000     1000     1000    \n",
       "5 28314     28959     29547     2000     2019     1200     1100     1069    \n",
       "6 20940     19146     19131     2000     36681    10000    9000     689     \n",
       "  X23      Y                         \n",
       "1 PAY_AMT6 default payment next month\n",
       "2 0        1                         \n",
       "3 2000     1                         \n",
       "4 5000     0                         \n",
       "5 1000     0                         \n",
       "6 679      0                         "
      ]
     },
     "metadata": {},
     "output_type": "display_data"
    },
    {
     "name": "stdout",
     "output_type": "stream",
     "text": [
      "'data.frame':\t30001 obs. of  25 variables:\n",
      " $ ï..: Factor w/ 30001 levels \"1\",\"10\",\"100\",..: 30001 1 11112 22223 23335 24446 25557 26668 27779 28890 ...\n",
      " $ X1 : Factor w/ 82 levels \"10000\",\"100000\",..: 82 14 5 81 48 48 48 49 2 7 ...\n",
      " $ X2 : Factor w/ 3 levels \"1\",\"2\",\"SEX\": 3 2 2 2 2 1 1 1 2 2 ...\n",
      " $ X3 : Factor w/ 8 levels \"0\",\"1\",\"2\",\"3\",..: 8 3 3 3 3 3 2 2 3 4 ...\n",
      " $ X4 : Factor w/ 5 levels \"0\",\"1\",\"2\",\"3\",..: 5 2 3 3 2 2 3 3 3 2 ...\n",
      " $ X5 : Factor w/ 57 levels \"21\",\"22\",\"23\",..: 57 4 6 14 17 37 17 9 3 8 ...\n",
      " $ X6 : Factor w/ 12 levels \"-1\",\"-2\",\"0\",..: 12 5 1 3 3 1 3 3 3 3 ...\n",
      " $ X7 : Factor w/ 12 levels \"-1\",\"-2\",\"0\",..: 12 5 5 3 3 3 3 3 1 3 ...\n",
      " $ X8 : Factor w/ 12 levels \"-1\",\"-2\",\"0\",..: 12 1 3 3 3 1 3 3 1 5 ...\n",
      " $ X9 : Factor w/ 12 levels \"-1\",\"-2\",\"0\",..: 12 1 3 3 3 3 3 3 3 3 ...\n",
      " $ X10: Factor w/ 11 levels \"-1\",\"-2\",\"0\",..: 11 2 3 3 3 3 3 3 3 3 ...\n",
      " $ X11: Factor w/ 11 levels \"-1\",\"-2\",\"0\",..: 11 2 4 3 3 3 3 3 1 3 ...\n",
      " $ X12: Factor w/ 22724 levels \"-1\",\"-10\",\"-100\",..: 22724 13345 10030 10924 15026 21268 18423 12835 1993 1518 ...\n",
      " $ X13: Factor w/ 22347 levels \"-1\",\"-10\",\"-100\",..: 22347 11404 5552 3482 15171 16961 17010 13627 12949 3530 ...\n",
      " $ X14: Factor w/ 22027 levels \"-1\",\"-10\",\"-100\",..: 22027 18440 9759 3105 15397 12421 16866 14184 17258 2072 ...\n",
      " $ X15: Factor w/ 21549 levels \"-1\",\"-10\",\"-100\",..: 21549 378 11833 3620 10318 7717 6809 16081 8147 2129 ...\n",
      " $ X16: Factor w/ 21011 levels \"-1\",\"-10\",\"-100\",..: 21011 385 11971 3950 10407 6477 6841 14580 76 1796 ...\n",
      " $ X17: Factor w/ 20605 levels \"-1\",\"-10\",\"-100\",..: 20605 415 11339 4234 10458 6345 7002 14057 15748 12215 ...\n",
      " $ X18: Factor w/ 7944 levels \"0\",\"1\",\"10\",\"100\",..: 7944 1 1 1495 2416 2416 3160 5871 4578 4128 ...\n",
      " $ X19: Factor w/ 7900 levels \"0\",\"1\",\"10\",\"100\",..: 7900 6671 5 1477 2536 4508 2142 4778 6189 1 ...\n",
      " $ X20: Factor w/ 7519 levels \"0\",\"1\",\"10\",\"100\",..: 7519 1 5 5 646 6 6163 4292 1 4731 ...\n",
      " $ X21: Factor w/ 6938 levels \"0\",\"1\",\"10\",\"100\",..: 6938 1 5 5 337 6620 5 2077 5286 5 ...\n",
      " $ X22: Factor w/ 6898 levels \"0\",\"1\",\"10\",\"100\",..: 6898 1 1 5 263 5777 5 950 1502 5 ...\n",
      " $ X23: Factor w/ 6940 levels \"0\",\"1\",\"10\",\"100\",..: 6940 1 2003 4751 5 5796 6293 963 1267 5 ...\n",
      " $ Y  : Factor w/ 3 levels \"0\",\"1\",\"default payment next month\": 3 2 2 1 1 1 1 1 1 1 ...\n"
     ]
    },
    {
     "data": {
      "text/html": [
       "<table>\n",
       "<thead><tr><th></th><th scope=col>ï..</th><th scope=col>X1</th><th scope=col>X2</th><th scope=col>X3</th><th scope=col>X4</th><th scope=col>X5</th><th scope=col>X6</th><th scope=col>X7</th><th scope=col>X8</th><th scope=col>X9</th><th scope=col>...</th><th scope=col>X15</th><th scope=col>X16</th><th scope=col>X17</th><th scope=col>X18</th><th scope=col>X19</th><th scope=col>X20</th><th scope=col>X21</th><th scope=col>X22</th><th scope=col>X23</th><th scope=col>Y</th></tr></thead>\n",
       "<tbody>\n",
       "\t<tr><th scope=row>2</th><td>1     </td><td>20000 </td><td>2     </td><td>2     </td><td>1     </td><td>24    </td><td>2     </td><td>2     </td><td>-1    </td><td>-1    </td><td>...   </td><td>0     </td><td>0     </td><td>0     </td><td>0     </td><td>689   </td><td>0     </td><td>0     </td><td>0     </td><td>0     </td><td>1     </td></tr>\n",
       "\t<tr><th scope=row>3</th><td>2     </td><td>120000</td><td>2     </td><td>2     </td><td>2     </td><td>26    </td><td>-1    </td><td>2     </td><td>0     </td><td>0     </td><td>...   </td><td>3272  </td><td>3455  </td><td>3261  </td><td>0     </td><td>1000  </td><td>1000  </td><td>1000  </td><td>0     </td><td>2000  </td><td>1     </td></tr>\n",
       "\t<tr><th scope=row>4</th><td>3     </td><td>90000 </td><td>2     </td><td>2     </td><td>2     </td><td>34    </td><td>0     </td><td>0     </td><td>0     </td><td>0     </td><td>...   </td><td>14331 </td><td>14948 </td><td>15549 </td><td>1518  </td><td>1500  </td><td>1000  </td><td>1000  </td><td>1000  </td><td>5000  </td><td>0     </td></tr>\n",
       "\t<tr><th scope=row>5</th><td>4     </td><td>50000 </td><td>2     </td><td>2     </td><td>1     </td><td>37    </td><td>0     </td><td>0     </td><td>0     </td><td>0     </td><td>...   </td><td>28314 </td><td>28959 </td><td>29547 </td><td>2000  </td><td>2019  </td><td>1200  </td><td>1100  </td><td>1069  </td><td>1000  </td><td>0     </td></tr>\n",
       "\t<tr><th scope=row>6</th><td>5     </td><td>50000 </td><td>1     </td><td>2     </td><td>1     </td><td>57    </td><td>-1    </td><td>0     </td><td>-1    </td><td>0     </td><td>...   </td><td>20940 </td><td>19146 </td><td>19131 </td><td>2000  </td><td>36681 </td><td>10000 </td><td>9000  </td><td>689   </td><td>679   </td><td>0     </td></tr>\n",
       "\t<tr><th scope=row>7</th><td>6     </td><td>50000 </td><td>1     </td><td>1     </td><td>2     </td><td>37    </td><td>0     </td><td>0     </td><td>0     </td><td>0     </td><td>...   </td><td>19394 </td><td>19619 </td><td>20024 </td><td>2500  </td><td>1815  </td><td>657   </td><td>1000  </td><td>1000  </td><td>800   </td><td>0     </td></tr>\n",
       "</tbody>\n",
       "</table>\n"
      ],
      "text/latex": [
       "\\begin{tabular}{r|lllllllllllllllllllllllll}\n",
       "  & ï.. & X1 & X2 & X3 & X4 & X5 & X6 & X7 & X8 & X9 & ... & X15 & X16 & X17 & X18 & X19 & X20 & X21 & X22 & X23 & Y\\\\\n",
       "\\hline\n",
       "\t2 & 1      & 20000  & 2      & 2      & 1      & 24     & 2      & 2      & -1     & -1     & ...    & 0      & 0      & 0      & 0      & 689    & 0      & 0      & 0      & 0      & 1     \\\\\n",
       "\t3 & 2      & 120000 & 2      & 2      & 2      & 26     & -1     & 2      & 0      & 0      & ...    & 3272   & 3455   & 3261   & 0      & 1000   & 1000   & 1000   & 0      & 2000   & 1     \\\\\n",
       "\t4 & 3      & 90000  & 2      & 2      & 2      & 34     & 0      & 0      & 0      & 0      & ...    & 14331  & 14948  & 15549  & 1518   & 1500   & 1000   & 1000   & 1000   & 5000   & 0     \\\\\n",
       "\t5 & 4      & 50000  & 2      & 2      & 1      & 37     & 0      & 0      & 0      & 0      & ...    & 28314  & 28959  & 29547  & 2000   & 2019   & 1200   & 1100   & 1069   & 1000   & 0     \\\\\n",
       "\t6 & 5      & 50000  & 1      & 2      & 1      & 57     & -1     & 0      & -1     & 0      & ...    & 20940  & 19146  & 19131  & 2000   & 36681  & 10000  & 9000   & 689    & 679    & 0     \\\\\n",
       "\t7 & 6      & 50000  & 1      & 1      & 2      & 37     & 0      & 0      & 0      & 0      & ...    & 19394  & 19619  & 20024  & 2500   & 1815   & 657    & 1000   & 1000   & 800    & 0     \\\\\n",
       "\\end{tabular}\n"
      ],
      "text/markdown": [
       "\n",
       "| <!--/--> | ï.. | X1 | X2 | X3 | X4 | X5 | X6 | X7 | X8 | X9 | ... | X15 | X16 | X17 | X18 | X19 | X20 | X21 | X22 | X23 | Y |\n",
       "|---|---|---|---|---|---|---|---|---|---|---|---|---|---|---|---|---|---|---|---|---|---|\n",
       "| 2 | 1      | 20000  | 2      | 2      | 1      | 24     | 2      | 2      | -1     | -1     | ...    | 0      | 0      | 0      | 0      | 689    | 0      | 0      | 0      | 0      | 1      |\n",
       "| 3 | 2      | 120000 | 2      | 2      | 2      | 26     | -1     | 2      | 0      | 0      | ...    | 3272   | 3455   | 3261   | 0      | 1000   | 1000   | 1000   | 0      | 2000   | 1      |\n",
       "| 4 | 3      | 90000  | 2      | 2      | 2      | 34     | 0      | 0      | 0      | 0      | ...    | 14331  | 14948  | 15549  | 1518   | 1500   | 1000   | 1000   | 1000   | 5000   | 0      |\n",
       "| 5 | 4      | 50000  | 2      | 2      | 1      | 37     | 0      | 0      | 0      | 0      | ...    | 28314  | 28959  | 29547  | 2000   | 2019   | 1200   | 1100   | 1069   | 1000   | 0      |\n",
       "| 6 | 5      | 50000  | 1      | 2      | 1      | 57     | -1     | 0      | -1     | 0      | ...    | 20940  | 19146  | 19131  | 2000   | 36681  | 10000  | 9000   | 689    | 679    | 0      |\n",
       "| 7 | 6      | 50000  | 1      | 1      | 2      | 37     | 0      | 0      | 0      | 0      | ...    | 19394  | 19619  | 20024  | 2500   | 1815   | 657    | 1000   | 1000   | 800    | 0      |\n",
       "\n"
      ],
      "text/plain": [
       "  ï.. X1     X2 X3 X4 X5 X6 X7 X8 X9 ... X15   X16   X17   X18  X19   X20  \n",
       "2 1   20000  2  2  1  24 2  2  -1 -1 ... 0     0     0     0    689   0    \n",
       "3 2   120000 2  2  2  26 -1 2  0  0  ... 3272  3455  3261  0    1000  1000 \n",
       "4 3   90000  2  2  2  34 0  0  0  0  ... 14331 14948 15549 1518 1500  1000 \n",
       "5 4   50000  2  2  1  37 0  0  0  0  ... 28314 28959 29547 2000 2019  1200 \n",
       "6 5   50000  1  2  1  57 -1 0  -1 0  ... 20940 19146 19131 2000 36681 10000\n",
       "7 6   50000  1  1  2  37 0  0  0  0  ... 19394 19619 20024 2500 1815  657  \n",
       "  X21  X22  X23  Y\n",
       "2 0    0    0    1\n",
       "3 1000 0    2000 1\n",
       "4 1000 1000 5000 0\n",
       "5 1100 1069 1000 0\n",
       "6 9000 689  679  0\n",
       "7 1000 1000 800  0"
      ]
     },
     "metadata": {},
     "output_type": "display_data"
    },
    {
     "name": "stdout",
     "output_type": "stream",
     "text": [
      "'data.frame':\t30000 obs. of  25 variables:\n",
      " $ ï..: Factor w/ 30001 levels \"1\",\"10\",\"100\",..: 1 11112 22223 23335 24446 25557 26668 27779 28890 2 ...\n",
      " $ X1 : Factor w/ 82 levels \"10000\",\"100000\",..: 14 5 81 48 48 48 49 2 7 14 ...\n",
      " $ X2 : Factor w/ 3 levels \"1\",\"2\",\"SEX\": 2 2 2 2 1 1 1 2 2 1 ...\n",
      " $ X3 : Factor w/ 8 levels \"0\",\"1\",\"2\",\"3\",..: 3 3 3 3 3 2 2 3 4 4 ...\n",
      " $ X4 : Factor w/ 5 levels \"0\",\"1\",\"2\",\"3\",..: 2 3 3 2 2 3 3 3 2 3 ...\n",
      " $ X5 : Factor w/ 57 levels \"21\",\"22\",\"23\",..: 4 6 14 17 37 17 9 3 8 15 ...\n",
      " $ X6 : Factor w/ 12 levels \"-1\",\"-2\",\"0\",..: 5 1 3 3 1 3 3 3 3 2 ...\n",
      " $ X7 : Factor w/ 12 levels \"-1\",\"-2\",\"0\",..: 5 5 3 3 3 3 3 1 3 2 ...\n",
      " $ X8 : Factor w/ 12 levels \"-1\",\"-2\",\"0\",..: 1 3 3 3 1 3 3 1 5 2 ...\n",
      " $ X9 : Factor w/ 12 levels \"-1\",\"-2\",\"0\",..: 1 3 3 3 3 3 3 3 3 2 ...\n",
      " $ X10: Factor w/ 11 levels \"-1\",\"-2\",\"0\",..: 2 3 3 3 3 3 3 3 3 1 ...\n",
      " $ X11: Factor w/ 11 levels \"-1\",\"-2\",\"0\",..: 2 4 3 3 3 3 3 1 3 1 ...\n",
      " $ X12: Factor w/ 22724 levels \"-1\",\"-10\",\"-100\",..: 13345 10030 10924 15026 21268 18423 12835 1993 1518 307 ...\n",
      " $ X13: Factor w/ 22347 levels \"-1\",\"-10\",\"-100\",..: 11404 5552 3482 15171 16961 17010 13627 12949 3530 348 ...\n",
      " $ X14: Factor w/ 22027 levels \"-1\",\"-10\",\"-100\",..: 18440 9759 3105 15397 12421 16866 14184 17258 2072 365 ...\n",
      " $ X15: Factor w/ 21549 levels \"-1\",\"-10\",\"-100\",..: 378 11833 3620 10318 7717 6809 16081 8147 2129 378 ...\n",
      " $ X16: Factor w/ 21011 levels \"-1\",\"-10\",\"-100\",..: 385 11971 3950 10407 6477 6841 14580 76 1796 2638 ...\n",
      " $ X17: Factor w/ 20605 levels \"-1\",\"-10\",\"-100\",..: 415 11339 4234 10458 6345 7002 14057 15748 12215 3230 ...\n",
      " $ X18: Factor w/ 7944 levels \"0\",\"1\",\"10\",\"100\",..: 1 1 1495 2416 2416 3160 5871 4578 4128 1 ...\n",
      " $ X19: Factor w/ 7900 levels \"0\",\"1\",\"10\",\"100\",..: 6671 5 1477 2536 4508 2142 4778 6189 1 1 ...\n",
      " $ X20: Factor w/ 7519 levels \"0\",\"1\",\"10\",\"100\",..: 1 5 5 646 6 6163 4292 1 4731 1 ...\n",
      " $ X21: Factor w/ 6938 levels \"0\",\"1\",\"10\",\"100\",..: 1 5 5 337 6620 5 2077 5286 5 813 ...\n",
      " $ X22: Factor w/ 6898 levels \"0\",\"1\",\"10\",\"100\",..: 1 1 5 263 5777 5 950 1502 5 408 ...\n",
      " $ X23: Factor w/ 6940 levels \"0\",\"1\",\"10\",\"100\",..: 1 2003 4751 5 5796 6293 963 1267 5 1 ...\n",
      " $ Y  : Factor w/ 3 levels \"0\",\"1\",\"default payment next month\": 2 2 1 1 1 1 1 1 1 1 ...\n"
     ]
    }
   ],
   "source": [
    "## Loading required packages \n",
    "library(ggplot2)\n",
    "library(dplyr)\n",
    "library(tidyverse)\n",
    "library(readxl)\n",
    "\n",
    "## Reading the dataset\n",
    "data <- read.csv(\"card.csv\")\n",
    "head(data)\n",
    "str(data)\n",
    "\n",
    "## data preprocessing \n",
    "data_processed <- data[-1, ]\n",
    "head(data_processed)\n",
    "str(data_processed)"
   ]
  },
  {
   "cell_type": "markdown",
   "id": "affbabb9",
   "metadata": {},
   "source": [
    "As all of the columns in the data are originally categorised as factors, in order to proceed with the data preprocessing and data visualisation, we decided to transform the columns that are considered as continuous and numeric back to a numeric data type. After further research from reading through the description of our data, we identified x1, x5, x6, x7, x8, x9, x10, x11, x12, x13, x14, x15, x16, x17, x18, x19, x20, x21, x22, x23 as the data columns that we may need to transform. "
   ]
  },
  {
   "cell_type": "code",
   "execution_count": 2,
   "id": "8461fc8e",
   "metadata": {
    "vscode": {
     "languageId": "r"
    }
   },
   "outputs": [
    {
     "name": "stdout",
     "output_type": "stream",
     "text": [
      "'data.frame':\t30000 obs. of  25 variables:\n",
      " $ ï..: Factor w/ 30001 levels \"1\",\"10\",\"100\",..: 1 11112 22223 23335 24446 25557 26668 27779 28890 2 ...\n",
      " $ X1 : num  20000 120000 90000 50000 50000 50000 500000 100000 140000 20000 ...\n",
      " $ X2 : Factor w/ 2 levels \"1\",\"2\": 2 2 2 2 1 1 1 2 2 1 ...\n",
      " $ X3 : Factor w/ 7 levels \"0\",\"1\",\"2\",\"3\",..: 3 3 3 3 3 2 2 3 4 4 ...\n",
      " $ X4 : Factor w/ 4 levels \"0\",\"1\",\"2\",\"3\": 2 3 3 2 2 3 3 3 2 3 ...\n",
      " $ X5 : num  24 26 34 37 57 37 29 23 28 35 ...\n",
      " $ X6 : num  2 -1 0 0 -1 0 0 0 0 -2 ...\n",
      " $ X7 : num  2 2 0 0 0 0 0 -1 0 -2 ...\n",
      " $ X8 : num  -1 0 0 0 -1 0 0 -1 2 -2 ...\n",
      " $ X9 : num  -1 0 0 0 0 0 0 0 0 -2 ...\n",
      " $ X10: num  -2 0 0 0 0 0 0 0 0 -1 ...\n",
      " $ X11: num  -2 2 0 0 0 0 0 -1 0 -1 ...\n",
      " $ X12: num  3913 2682 29239 46990 8617 ...\n",
      " $ X13: num  3102 1725 14027 48233 5670 ...\n",
      " $ X14: num  689 2682 13559 49291 35835 ...\n",
      " $ X15: num  0 3272 14331 28314 20940 ...\n",
      " $ X16: num  0 3455 14948 28959 19146 ...\n",
      " $ X17: num  0 3261 15549 29547 19131 ...\n",
      " $ X18: num  0 0 1518 2000 2000 ...\n",
      " $ X19: num  689 1000 1500 2019 36681 ...\n",
      " $ X20: num  0 1000 1000 1200 10000 657 38000 0 432 0 ...\n",
      " $ X21: num  0 1000 1000 1100 9000 ...\n",
      " $ X22: num  0 0 1000 1069 689 ...\n",
      " $ X23: num  0 2000 5000 1000 679 ...\n",
      " $ Y  : Factor w/ 2 levels \"0\",\"1\": 2 2 1 1 1 1 1 1 1 1 ...\n"
     ]
    },
    {
     "data": {
      "text/html": [
       "'numeric'"
      ],
      "text/latex": [
       "'numeric'"
      ],
      "text/markdown": [
       "'numeric'"
      ],
      "text/plain": [
       "[1] \"numeric\""
      ]
     },
     "metadata": {},
     "output_type": "display_data"
    }
   ],
   "source": [
    "## processing on data\n",
    "card <- data_processed %>% mutate(X1 = as.numeric(as.character(X1))) %>%\n",
    " mutate(X5 = as.numeric(as.character(X5))) %>%\n",
    " mutate(X6 = as.numeric(as.character(X6))) %>%\n",
    " mutate(X7 = as.numeric(as.character(X7))) %>%\n",
    " mutate(X8 = as.numeric(as.character(X8))) %>%\n",
    " mutate(X9 = as.numeric(as.character(X9))) %>%\n",
    " mutate(X10 = as.numeric(as.character(X10))) %>%\n",
    " mutate(X11 = as.numeric(as.character(X11))) %>%\n",
    " mutate(X12 = as.numeric(as.character(X12))) %>%\n",
    " mutate(X13 = as.numeric(as.character(X13))) %>%\n",
    " mutate(X14 = as.numeric(as.character(X14))) %>%\n",
    " mutate(X15 = as.numeric(as.character(X15))) %>%\n",
    " mutate(X16 = as.numeric(as.character(X16))) %>%\n",
    " mutate(X17 = as.numeric(as.character(X17))) %>%\n",
    " mutate(X18 = as.numeric(as.character(X18))) %>%\n",
    " mutate(X19 = as.numeric(as.character(X19))) %>%\n",
    " mutate(X20 = as.numeric(as.character(X20))) %>%\n",
    " mutate(X21 = as.numeric(as.character(X21))) %>%\n",
    " mutate(X22 = as.numeric(as.character(X22))) %>%\n",
    " mutate(X23 = as.numeric(as.character(X23)))\n",
    "\n",
    "## dropping factor levels that are unused\n",
    "card <- card %>% mutate(X2 = droplevels(X2)) \n",
    "card <- card %>% mutate(X3 = droplevels(X3)) \n",
    "card <- card %>% mutate(X4 = droplevels(X4))\n",
    "card <- card %>% mutate(Y = droplevels(Y)) \n",
    "\n",
    "## tests to make sure the values are changed accordingly\n",
    "str(card)\n",
    "class(card$X1)"
   ]
  },
  {
   "cell_type": "markdown",
   "id": "9690e4e4",
   "metadata": {},
   "source": [
    "#### Exploratory Data Analysis"
   ]
  },
  {
   "cell_type": "markdown",
   "id": "9d9c0bd0",
   "metadata": {},
   "source": [
    "For this part, we are going to perform some basic data exploration and data visualisation, in order to have a more detailed understanding of the data set and identify the most important variables that are included in the dataset. "
   ]
  },
  {
   "cell_type": "code",
   "execution_count": null,
   "id": "0323e35f",
   "metadata": {
    "vscode": {
     "languageId": "r"
    }
   },
   "outputs": [],
   "source": [
    "## Doing data exploration and visualisation variable by variable\n",
    "\n",
    "## X1 -> Amount of given credit\n",
    "hist(card$X1, main = \"Distribution of Amount of Given Credit\", xlim = c(0, 1000000), ylim = c(0, 5000), breaks = 50, col = \"green\", xlab = \"Amount of Given Credit\", ylab = \"Frequency\")\n"
   ]
  },
  {
   "cell_type": "code",
   "execution_count": null,
   "id": "d2905823",
   "metadata": {
    "vscode": {
     "languageId": "r"
    }
   },
   "outputs": [],
   "source": [
    "## X2 -> gender\n",
    "table(card$X2)\n",
    "barplot(table(card$X2))\n",
    "# 11888 records are males, while 18112 are females"
   ]
  },
  {
   "cell_type": "code",
   "execution_count": null,
   "id": "5f85727e",
   "metadata": {
    "vscode": {
     "languageId": "r"
    }
   },
   "outputs": [],
   "source": [
    "\n",
    "## X3 -> Education\n",
    "table(card$X3)\n",
    "barplot(table(card$X3), ylim = c(0, 15000), main = \"Distribution of Education Level\", ylab = \"Frequency\", xlab = \"Education Level\")"
   ]
  },
  {
   "cell_type": "code",
   "execution_count": null,
   "id": "f9903b6c",
   "metadata": {
    "vscode": {
     "languageId": "r"
    }
   },
   "outputs": [],
   "source": [
    "## X4 -> Marital Status\n",
    "table(card$X4)\n",
    "barplot(table(card$X4), main = \"Marital Status\", ylim = c(0, 20000))"
   ]
  },
  {
   "cell_type": "code",
   "execution_count": null,
   "id": "a06fa115",
   "metadata": {
    "vscode": {
     "languageId": "r"
    }
   },
   "outputs": [],
   "source": [
    "## X5 -> Age \n",
    "hist(card$X5, main = \"Age\", ylim = c(0, 8000), breaks = 16, xlab = \"Age group (5 years)\")"
   ]
  },
  {
   "cell_type": "code",
   "execution_count": null,
   "id": "536fcbbe",
   "metadata": {
    "vscode": {
     "languageId": "r"
    }
   },
   "outputs": [],
   "source": [
    "## X6 - 11 ->  History of past payment. past monthly payment records (from April to September, 2005)\n",
    "par(mfrow = c(3, 2))\n",
    "\n",
    "## Tabulate the data \n",
    "df <- data.frame(table(card$X6), table(card$X7), table(card$X8), table(card$X9))\n",
    "df\n",
    "\n",
    "## Visualisation\n",
    "barplot(table(card$X6), main = \"Payment Records for September 2005\")\n",
    "barplot(table(card$X7), main = \"Payment Records for August 2005\")\n",
    "barplot(table(card$X8), main = \"Payment Records for July 2005\")\n",
    "barplot(table(card$X9), main = \"Payment Records for June 2005\")\n",
    "barplot(table(card$X10), main = \"Payment Records for May 2005\")\n",
    "barplot(table(card$X11), main = \"Payment Records for April 2005\")\n"
   ]
  },
  {
   "cell_type": "code",
   "execution_count": null,
   "id": "32939c15",
   "metadata": {
    "vscode": {
     "languageId": "r"
    }
   },
   "outputs": [],
   "source": [
    "## X12 - X17 -> Amount of Bill StatementAmount of bill statement (NT dollar). X12 = amount of bill statement in September, 2005; X13 = amount of bill statement in August, 2005; . . .; X17 = amount of bill statement in April, 2005\n",
    "par(mfrow = c(3, 2))\n",
    "\n",
    "## Doing Visualisation for the data\n",
    "hist(card$X12, xlab = \"Amount of Bill Statement for September 2005\", main = \"Distribution of Amount for September 2005\") # why r there negative values in our account of bill statement?\n",
    "hist(card$X13)\n",
    "hist(card$X14)\n",
    "hist(card$X15)\n",
    "hist(card$X16)\n",
    "hist(card$X17)"
   ]
  },
  {
   "cell_type": "code",
   "execution_count": null,
   "id": "79420036",
   "metadata": {
    "vscode": {
     "languageId": "r"
    }
   },
   "outputs": [],
   "source": [
    "## X18 - X23 -> Amount of previous payment (NT dollar). X18 = amount paid in September, 2005; X19 = amount paid in August, 2005; . . .; X23 = amount paid in April, 2005\n",
    "par(mfrow = c(3, 2))\n",
    "\n",
    "## Data Visualisation\n",
    "hist(card$X18)\n",
    "hist(card$X19)\n",
    "hist(card$X20)\n",
    "hist(card$X21)\n",
    "hist(card$X22)\n",
    "hist(card$X23)"
   ]
  },
  {
   "cell_type": "code",
   "execution_count": null,
   "id": "79420036",
   "metadata": {
    "vscode": {
     "languageId": "r"
    }
   },
   "outputs": [],
   "source": [
    "## X18 - X23 -> Amount of previous payment (NT dollar). X18 = amount paid in September, 2005; X19 = amount paid in August, 2005; . . .; X23 = amount paid in April, 2005\n",
    "par(mfrow = c(3, 2))\n",
    "\n",
    "## Log Transformed Data Visualisation In order to make it resemble a normal distribution\n",
    "hist(log(card$X18))\n",
    "hist(log(card$X19))\n",
    "hist(log(card$X20))\n",
    "hist(log(card$X21))\n",
    "hist(log(card$X22))\n",
    "hist(log(card$X23))"
   ]
  },
  {
   "cell_type": "code",
   "execution_count": null,
   "id": "df5ac85b",
   "metadata": {
    "vscode": {
     "languageId": "r"
    }
   },
   "outputs": [],
   "source": [
    "## Distribution of Default and Non-default data\n",
    "\n",
    "table(card$Y)\n",
    "barplot(table(card$Y), ylim = c(0, 25000), main = \"Distribution of Default and Non-default Customers\", xlab = \"0 = Non-Default 1 = Default\")"
   ]
  },
  {
   "cell_type": "markdown",
   "id": "577fe058",
   "metadata": {},
   "source": [
    "#### Data Pre-Processing"
   ]
  },
  {
   "cell_type": "markdown",
   "id": "a681d6b1",
   "metadata": {},
   "source": [
    "As we noticed from the data visualisation shown in our part above, there is a significant issue with the data we gathered from our dataset, as some of the data are either not described in our original cited data source or does not make any logical sense. For example, for distribution of education level and marital status, we noticed some entries that does not belong to any factor levels that were described in the original data source. Similarly, for the history of payment records, we also realised the occurence of erroneous factor levels such as -2 and 0, which are not described for in the original data source. \n",
    "\n",
    "At the same time, for some of the continuous data that we visualised and analysed in our previous section, we also realise that there are some potentially erroneous data points, such as the occurence of negative values in the amount of bill statements. It is not logical for bill statements to be negative in that sense, and therefore we consider these entries as erroneous in nature as well. "
   ]
  },
  {
   "cell_type": "markdown",
   "id": "f2b86a76",
   "metadata": {},
   "source": [
    "For this chapter of our Project, first we are going to perform some data manipulation on some of the data anomalities that we spotted earlier. In that sense, we are going to manipulate and change the data points that are originally not described in our cited data source. \n",
    "\n",
    "Moving on, we are going to change the names of each columns for better understanding and easier interpretation in our following chapters. Similarly, some data transformation will be made to columns which are continuous but is not normally distributed. "
   ]
  },
  {
   "cell_type": "code",
   "execution_count": 3,
   "id": "91fd0e33",
   "metadata": {
    "vscode": {
     "languageId": "r"
    }
   },
   "outputs": [
    {
     "data": {
      "text/html": [
       "<table>\n",
       "<thead><tr><th scope=col>Amt_credit</th><th scope=col>Gender</th><th scope=col>Edu_Lvl</th><th scope=col>Marital</th><th scope=col>Age</th><th scope=col>PayRec_Sep</th><th scope=col>PayRec_Aug</th><th scope=col>PayRec_Jul</th><th scope=col>PayRec_Jun</th><th scope=col>PayRec_May</th><th scope=col>...</th><th scope=col>BillAmt_Jun</th><th scope=col>BillAmt_May</th><th scope=col>BillAmt_Apr</th><th scope=col>PaidAmt_Sep</th><th scope=col>PaidAmt_Aug</th><th scope=col>PaidAmt_Jul</th><th scope=col>PaidAmt_Jun</th><th scope=col>PaidAmt_May</th><th scope=col>PaidAmt_Apr</th><th scope=col>Y</th></tr></thead>\n",
       "<tbody>\n",
       "\t<tr><td> 20000</td><td>2     </td><td>2     </td><td>1     </td><td>24    </td><td> 2    </td><td>2     </td><td>-1    </td><td>-1    </td><td>-2    </td><td>...   </td><td>    0 </td><td>    0 </td><td>    0 </td><td>   0  </td><td>  689 </td><td>    0 </td><td>   0  </td><td>   0  </td><td>   0  </td><td>1     </td></tr>\n",
       "\t<tr><td>120000</td><td>2     </td><td>2     </td><td>2     </td><td>26    </td><td>-1    </td><td>2     </td><td> 0    </td><td> 0    </td><td> 0    </td><td>...   </td><td> 3272 </td><td> 3455 </td><td> 3261 </td><td>   0  </td><td> 1000 </td><td> 1000 </td><td>1000  </td><td>   0  </td><td>2000  </td><td>1     </td></tr>\n",
       "\t<tr><td> 90000</td><td>2     </td><td>2     </td><td>2     </td><td>34    </td><td> 0    </td><td>0     </td><td> 0    </td><td> 0    </td><td> 0    </td><td>...   </td><td>14331 </td><td>14948 </td><td>15549 </td><td>1518  </td><td> 1500 </td><td> 1000 </td><td>1000  </td><td>1000  </td><td>5000  </td><td>0     </td></tr>\n",
       "\t<tr><td> 50000</td><td>2     </td><td>2     </td><td>1     </td><td>37    </td><td> 0    </td><td>0     </td><td> 0    </td><td> 0    </td><td> 0    </td><td>...   </td><td>28314 </td><td>28959 </td><td>29547 </td><td>2000  </td><td> 2019 </td><td> 1200 </td><td>1100  </td><td>1069  </td><td>1000  </td><td>0     </td></tr>\n",
       "\t<tr><td> 50000</td><td>1     </td><td>2     </td><td>1     </td><td>57    </td><td>-1    </td><td>0     </td><td>-1    </td><td> 0    </td><td> 0    </td><td>...   </td><td>20940 </td><td>19146 </td><td>19131 </td><td>2000  </td><td>36681 </td><td>10000 </td><td>9000  </td><td> 689  </td><td> 679  </td><td>0     </td></tr>\n",
       "\t<tr><td> 50000</td><td>1     </td><td>1     </td><td>2     </td><td>37    </td><td> 0    </td><td>0     </td><td> 0    </td><td> 0    </td><td> 0    </td><td>...   </td><td>19394 </td><td>19619 </td><td>20024 </td><td>2500  </td><td> 1815 </td><td>  657 </td><td>1000  </td><td>1000  </td><td> 800  </td><td>0     </td></tr>\n",
       "</tbody>\n",
       "</table>\n"
      ],
      "text/latex": [
       "\\begin{tabular}{r|llllllllllllllllllllllll}\n",
       " Amt\\_credit & Gender & Edu\\_Lvl & Marital & Age & PayRec\\_Sep & PayRec\\_Aug & PayRec\\_Jul & PayRec\\_Jun & PayRec\\_May & ... & BillAmt\\_Jun & BillAmt\\_May & BillAmt\\_Apr & PaidAmt\\_Sep & PaidAmt\\_Aug & PaidAmt\\_Jul & PaidAmt\\_Jun & PaidAmt\\_May & PaidAmt\\_Apr & Y\\\\\n",
       "\\hline\n",
       "\t  20000 & 2      & 2      & 1      & 24     &  2     & 2      & -1     & -1     & -2     & ...    &     0  &     0  &     0  &    0   &   689  &     0  &    0   &    0   &    0   & 1     \\\\\n",
       "\t 120000 & 2      & 2      & 2      & 26     & -1     & 2      &  0     &  0     &  0     & ...    &  3272  &  3455  &  3261  &    0   &  1000  &  1000  & 1000   &    0   & 2000   & 1     \\\\\n",
       "\t  90000 & 2      & 2      & 2      & 34     &  0     & 0      &  0     &  0     &  0     & ...    & 14331  & 14948  & 15549  & 1518   &  1500  &  1000  & 1000   & 1000   & 5000   & 0     \\\\\n",
       "\t  50000 & 2      & 2      & 1      & 37     &  0     & 0      &  0     &  0     &  0     & ...    & 28314  & 28959  & 29547  & 2000   &  2019  &  1200  & 1100   & 1069   & 1000   & 0     \\\\\n",
       "\t  50000 & 1      & 2      & 1      & 57     & -1     & 0      & -1     &  0     &  0     & ...    & 20940  & 19146  & 19131  & 2000   & 36681  & 10000  & 9000   &  689   &  679   & 0     \\\\\n",
       "\t  50000 & 1      & 1      & 2      & 37     &  0     & 0      &  0     &  0     &  0     & ...    & 19394  & 19619  & 20024  & 2500   &  1815  &   657  & 1000   & 1000   &  800   & 0     \\\\\n",
       "\\end{tabular}\n"
      ],
      "text/markdown": [
       "\n",
       "| Amt_credit | Gender | Edu_Lvl | Marital | Age | PayRec_Sep | PayRec_Aug | PayRec_Jul | PayRec_Jun | PayRec_May | ... | BillAmt_Jun | BillAmt_May | BillAmt_Apr | PaidAmt_Sep | PaidAmt_Aug | PaidAmt_Jul | PaidAmt_Jun | PaidAmt_May | PaidAmt_Apr | Y |\n",
       "|---|---|---|---|---|---|---|---|---|---|---|---|---|---|---|---|---|---|---|---|---|\n",
       "|  20000 | 2      | 2      | 1      | 24     |  2     | 2      | -1     | -1     | -2     | ...    |     0  |     0  |     0  |    0   |   689  |     0  |    0   |    0   |    0   | 1      |\n",
       "| 120000 | 2      | 2      | 2      | 26     | -1     | 2      |  0     |  0     |  0     | ...    |  3272  |  3455  |  3261  |    0   |  1000  |  1000  | 1000   |    0   | 2000   | 1      |\n",
       "|  90000 | 2      | 2      | 2      | 34     |  0     | 0      |  0     |  0     |  0     | ...    | 14331  | 14948  | 15549  | 1518   |  1500  |  1000  | 1000   | 1000   | 5000   | 0      |\n",
       "|  50000 | 2      | 2      | 1      | 37     |  0     | 0      |  0     |  0     |  0     | ...    | 28314  | 28959  | 29547  | 2000   |  2019  |  1200  | 1100   | 1069   | 1000   | 0      |\n",
       "|  50000 | 1      | 2      | 1      | 57     | -1     | 0      | -1     |  0     |  0     | ...    | 20940  | 19146  | 19131  | 2000   | 36681  | 10000  | 9000   |  689   |  679   | 0      |\n",
       "|  50000 | 1      | 1      | 2      | 37     |  0     | 0      |  0     |  0     |  0     | ...    | 19394  | 19619  | 20024  | 2500   |  1815  |   657  | 1000   | 1000   |  800   | 0      |\n",
       "\n"
      ],
      "text/plain": [
       "  Amt_credit Gender Edu_Lvl Marital Age PayRec_Sep PayRec_Aug PayRec_Jul\n",
       "1  20000     2      2       1       24   2         2          -1        \n",
       "2 120000     2      2       2       26  -1         2           0        \n",
       "3  90000     2      2       2       34   0         0           0        \n",
       "4  50000     2      2       1       37   0         0           0        \n",
       "5  50000     1      2       1       57  -1         0          -1        \n",
       "6  50000     1      1       2       37   0         0           0        \n",
       "  PayRec_Jun PayRec_May ... BillAmt_Jun BillAmt_May BillAmt_Apr PaidAmt_Sep\n",
       "1 -1         -2         ...     0           0           0          0       \n",
       "2  0          0         ...  3272        3455        3261          0       \n",
       "3  0          0         ... 14331       14948       15549       1518       \n",
       "4  0          0         ... 28314       28959       29547       2000       \n",
       "5  0          0         ... 20940       19146       19131       2000       \n",
       "6  0          0         ... 19394       19619       20024       2500       \n",
       "  PaidAmt_Aug PaidAmt_Jul PaidAmt_Jun PaidAmt_May PaidAmt_Apr Y\n",
       "1   689           0          0           0           0        1\n",
       "2  1000        1000       1000           0        2000        1\n",
       "3  1500        1000       1000        1000        5000        0\n",
       "4  2019        1200       1100        1069        1000        0\n",
       "5 36681       10000       9000         689         679        0\n",
       "6  1815         657       1000        1000         800        0"
      ]
     },
     "metadata": {},
     "output_type": "display_data"
    }
   ],
   "source": [
    "## Renaming the column names \n",
    "\n",
    "card_renamed <- card %>% rename(Amt_credit = X1) %>%\n",
    "                 rename(Gender = X2) %>%\n",
    "                 rename(Edu_Lvl = X3) %>%\n",
    "                 rename(Marital = X4) %>%\n",
    "                 rename(Age = X5) %>%\n",
    "                 rename(PayRec_Sep = X6) %>%\n",
    "                 rename(PayRec_Aug = X7) %>%\n",
    "                 rename(PayRec_Jul = X8) %>%\n",
    "                 rename(PayRec_Jun = X9) %>%\n",
    "                 rename(PayRec_May = X10) %>%\n",
    "                 rename(PayRec_Apr = X11) %>%\n",
    "                 rename(BillAmt_Sep = X12) %>%\n",
    "                 rename(BillAmt_Aug = X13) %>%\n",
    "                 rename(BillAmt_Jul = X14) %>%\n",
    "                 rename(BillAmt_Jun = X15) %>%\n",
    "                 rename(BillAmt_May = X16) %>%\n",
    "                 rename(BillAmt_Apr = X17) %>%\n",
    "                 rename(PaidAmt_Sep = X18) %>%\n",
    "                 rename(PaidAmt_Aug = X19) %>%\n",
    "                 rename(PaidAmt_Jul = X20) %>%\n",
    "                 rename(PaidAmt_Jun = X21) %>%\n",
    "                 rename(PaidAmt_May = X22) %>%\n",
    "                 rename(PaidAmt_Apr = X23)\n",
    "\n",
    "card_renamed <- card_renamed %>% select(-1)\n",
    "head(card_renamed)\n",
    "                 "
   ]
  },
  {
   "cell_type": "markdown",
   "id": "87b9ef4f",
   "metadata": {},
   "source": [
    "#### Data Manipulation for Marital Status "
   ]
  },
  {
   "cell_type": "markdown",
   "id": "f1c86764",
   "metadata": {},
   "source": [
    "As we can see from the visualisation for distribution of marital status for our clients, there are categories that are not described for in our original data cited source, namely 0.\n",
    "\n",
    "For our team, as we consider 0 values as possible null values where our clients did not provide their marital status information properly, we decided to drop rows with 0 values recorded for marital status. "
   ]
  },
  {
   "cell_type": "code",
   "execution_count": 4,
   "id": "66032943",
   "metadata": {
    "vscode": {
     "languageId": "r"
    }
   },
   "outputs": [
    {
     "data": {
      "text/plain": [
       "\n",
       "    1     2     3 \n",
       "13659 15964   323 "
      ]
     },
     "metadata": {},
     "output_type": "display_data"
    }
   ],
   "source": [
    "## Manipulating the erroneous data that are observed\n",
    "card_renamed <- card_renamed %>% filter(Marital != 0)\n",
    "\n",
    "## Checking whether 0 values are removed \n",
    "card_renamed <- card_renamed %>% mutate(Marital = droplevels(Marital))\n",
    "table(card_renamed$Marital)"
   ]
  },
  {
   "cell_type": "markdown",
   "id": "37bd2a74",
   "metadata": {},
   "source": [
    "#### Data Manipulation for Education Status (X3)"
   ]
  },
  {
   "cell_type": "markdown",
   "id": "e902758a",
   "metadata": {},
   "source": [
    "As we can see from the visualisation for distribution of education level for our clients, there are categories that are not described for in our original data cited source, namely 0, 5 and 6. \n",
    "\n",
    "For our team, as we consider 0 as a possible null value where our clients did not provide their academic credentials, we decided to drop those observations with 0 recorded as their education level. Meanwhile, as 5 and 6 may be education levels that are higher than or not included in the provided options (such as PhD), we decided to manipulate those data to add them into the 'others' category that is provided. "
   ]
  },
  {
   "cell_type": "code",
   "execution_count": 5,
   "id": "b39b8e17",
   "metadata": {
    "vscode": {
     "languageId": "r"
    }
   },
   "outputs": [
    {
     "data": {
      "text/html": [
       "29932"
      ],
      "text/latex": [
       "29932"
      ],
      "text/markdown": [
       "29932"
      ],
      "text/plain": [
       "[1] 29932"
      ]
     },
     "metadata": {},
     "output_type": "display_data"
    },
    {
     "data": {
      "text/html": [
       "30000"
      ],
      "text/latex": [
       "30000"
      ],
      "text/markdown": [
       "30000"
      ],
      "text/plain": [
       "[1] 30000"
      ]
     },
     "metadata": {},
     "output_type": "display_data"
    },
    {
     "data": {
      "text/plain": [
       "\n",
       "    1     2     3     4 \n",
       "10581 14024  4873   454 "
      ]
     },
     "metadata": {},
     "output_type": "display_data"
    }
   ],
   "source": [
    "## Manipulating the erroneous data that are observed\n",
    "card_renamed <- card_renamed %>% filter(Edu_Lvl != 0)\n",
    "\n",
    "## Checking whether 0 values are removed \n",
    "nrow(card_renamed)\n",
    "nrow(card)\n",
    "\n",
    "## Adding 5, 6 into 4 \n",
    "card_renamed$Edu_Lvl[card_renamed$Edu_Lvl == 5] <- 4\n",
    "card_renamed$Edu_Lvl[card_renamed$Edu_Lvl == 6] <- 4\n",
    "card_renamed <- card_renamed %>% mutate(Edu_Lvl = droplevels(Edu_Lvl))\n",
    "\n",
    "## Checking whether 5, 6 values are manipulated \n",
    "table(card_renamed$Edu_Lvl)\n"
   ]
  },
  {
   "cell_type": "markdown",
   "id": "8cc2c6f2",
   "metadata": {},
   "source": [
    "#### Feature Selection"
   ]
  },
  {
   "cell_type": "markdown",
   "id": "9ccb559d",
   "metadata": {},
   "source": [
    "Make use of feature selection methodologies to select the most relevant independent variables to create a prediction model. \n",
    "\n",
    "For our project, as it is a large dataset with around 30,000 observations, for each type of feature selection method, we are going to perform a test in order to determine the best features in that category, namely:\n",
    "\n",
    "1. Filter Method - Information Gain \n",
    "\n",
    "2. Wrapper Method - Boruta Method \n",
    "\n",
    "3. Embedded Method - Information gain "
   ]
  },
  {
   "cell_type": "markdown",
   "id": "72379aeb",
   "metadata": {},
   "source": [
    "#### Splitting into train and test set"
   ]
  },
  {
   "cell_type": "markdown",
   "id": "ed2ce4fd",
   "metadata": {},
   "source": [
    "First, we will split our dataset into train and test set before actually performing the feature selection models on our data. This is to prevent any leakage of information from our test set into our training set leading to biased and overfitted models. "
   ]
  },
  {
   "cell_type": "code",
   "execution_count": 6,
   "id": "10059e72",
   "metadata": {
    "vscode": {
     "languageId": "r"
    }
   },
   "outputs": [
    {
     "data": {
      "text/html": [
       "<table>\n",
       "<thead><tr><th></th><th scope=col>Amt_credit</th><th scope=col>Gender</th><th scope=col>Edu_Lvl</th><th scope=col>Marital</th><th scope=col>Age</th><th scope=col>PayRec_Sep</th><th scope=col>PayRec_Aug</th><th scope=col>PayRec_Jul</th><th scope=col>PayRec_Jun</th><th scope=col>PayRec_May</th><th scope=col>...</th><th scope=col>BillAmt_Jun</th><th scope=col>BillAmt_May</th><th scope=col>BillAmt_Apr</th><th scope=col>PaidAmt_Sep</th><th scope=col>PaidAmt_Aug</th><th scope=col>PaidAmt_Jul</th><th scope=col>PaidAmt_Jun</th><th scope=col>PaidAmt_May</th><th scope=col>PaidAmt_Apr</th><th scope=col>Y</th></tr></thead>\n",
       "<tbody>\n",
       "\t<tr><th scope=row>18847</th><td>360000</td><td>2     </td><td>1     </td><td>1     </td><td>31    </td><td> 0    </td><td> 0    </td><td> 0    </td><td> 0    </td><td> 0    </td><td>...   </td><td> 8605 </td><td>28405 </td><td> -105 </td><td>5006  </td><td>2000  </td><td>4000  </td><td> 20000</td><td>5000  </td><td> 4000 </td><td>0     </td></tr>\n",
       "\t<tr><th scope=row>18895</th><td>200000</td><td>2     </td><td>1     </td><td>2     </td><td>31    </td><td> 1    </td><td>-2    </td><td>-2    </td><td>-1    </td><td>-1    </td><td>...   </td><td> 2907 </td><td> 2400 </td><td>  945 </td><td>4210  </td><td>   0  </td><td>2907  </td><td>  2400</td><td> 945  </td><td>    0 </td><td>0     </td></tr>\n",
       "\t<tr><th scope=row>26803</th><td>130000</td><td>1     </td><td>3     </td><td>1     </td><td>38    </td><td> 0    </td><td> 0    </td><td> 0    </td><td> 0    </td><td>-1    </td><td>...   </td><td> 6931 </td><td>99416 </td><td>99702 </td><td>1088  </td><td>1189  </td><td>2646  </td><td>104590</td><td>3358  </td><td> 3314 </td><td>0     </td></tr>\n",
       "\t<tr><th scope=row>25102</th><td> 30000</td><td>2     </td><td>2     </td><td>2     </td><td>22    </td><td> 1    </td><td> 2    </td><td> 2    </td><td>-1    </td><td> 2    </td><td>...   </td><td> 1129 </td><td> 1470 </td><td>  339 </td><td>  10  </td><td>   0  </td><td>1470  </td><td>   341</td><td>   0  </td><td>12324 </td><td>1     </td></tr>\n",
       "\t<tr><th scope=row>28867</th><td> 80000</td><td>2     </td><td>3     </td><td>1     </td><td>48    </td><td>-1    </td><td>-1    </td><td> 2    </td><td>-1    </td><td>-1    </td><td>...   </td><td>  792 </td><td>    0 </td><td>  396 </td><td> 792  </td><td>   0  </td><td> 792  </td><td>     0</td><td> 396  </td><td>  546 </td><td>1     </td></tr>\n",
       "\t<tr><th scope=row>2986</th><td>150000</td><td>2     </td><td>3     </td><td>1     </td><td>43    </td><td> 0    </td><td> 0    </td><td> 0    </td><td> 0    </td><td> 0    </td><td>...   </td><td>91550 </td><td>89586 </td><td>88300 </td><td>4348  </td><td>3229  </td><td>3150  </td><td>  3348</td><td>3244  </td><td> 8778 </td><td>0     </td></tr>\n",
       "</tbody>\n",
       "</table>\n"
      ],
      "text/latex": [
       "\\begin{tabular}{r|llllllllllllllllllllllll}\n",
       "  & Amt\\_credit & Gender & Edu\\_Lvl & Marital & Age & PayRec\\_Sep & PayRec\\_Aug & PayRec\\_Jul & PayRec\\_Jun & PayRec\\_May & ... & BillAmt\\_Jun & BillAmt\\_May & BillAmt\\_Apr & PaidAmt\\_Sep & PaidAmt\\_Aug & PaidAmt\\_Jul & PaidAmt\\_Jun & PaidAmt\\_May & PaidAmt\\_Apr & Y\\\\\n",
       "\\hline\n",
       "\t18847 & 360000 & 2      & 1      & 1      & 31     &  0     &  0     &  0     &  0     &  0     & ...    &  8605  & 28405  &  -105  & 5006   & 2000   & 4000   &  20000 & 5000   &  4000  & 0     \\\\\n",
       "\t18895 & 200000 & 2      & 1      & 2      & 31     &  1     & -2     & -2     & -1     & -1     & ...    &  2907  &  2400  &   945  & 4210   &    0   & 2907   &   2400 &  945   &     0  & 0     \\\\\n",
       "\t26803 & 130000 & 1      & 3      & 1      & 38     &  0     &  0     &  0     &  0     & -1     & ...    &  6931  & 99416  & 99702  & 1088   & 1189   & 2646   & 104590 & 3358   &  3314  & 0     \\\\\n",
       "\t25102 &  30000 & 2      & 2      & 2      & 22     &  1     &  2     &  2     & -1     &  2     & ...    &  1129  &  1470  &   339  &   10   &    0   & 1470   &    341 &    0   & 12324  & 1     \\\\\n",
       "\t28867 &  80000 & 2      & 3      & 1      & 48     & -1     & -1     &  2     & -1     & -1     & ...    &   792  &     0  &   396  &  792   &    0   &  792   &      0 &  396   &   546  & 1     \\\\\n",
       "\t2986 & 150000 & 2      & 3      & 1      & 43     &  0     &  0     &  0     &  0     &  0     & ...    & 91550  & 89586  & 88300  & 4348   & 3229   & 3150   &   3348 & 3244   &  8778  & 0     \\\\\n",
       "\\end{tabular}\n"
      ],
      "text/markdown": [
       "\n",
       "| <!--/--> | Amt_credit | Gender | Edu_Lvl | Marital | Age | PayRec_Sep | PayRec_Aug | PayRec_Jul | PayRec_Jun | PayRec_May | ... | BillAmt_Jun | BillAmt_May | BillAmt_Apr | PaidAmt_Sep | PaidAmt_Aug | PaidAmt_Jul | PaidAmt_Jun | PaidAmt_May | PaidAmt_Apr | Y |\n",
       "|---|---|---|---|---|---|---|---|---|---|---|---|---|---|---|---|---|---|---|---|---|---|\n",
       "| 18847 | 360000 | 2      | 1      | 1      | 31     |  0     |  0     |  0     |  0     |  0     | ...    |  8605  | 28405  |  -105  | 5006   | 2000   | 4000   |  20000 | 5000   |  4000  | 0      |\n",
       "| 18895 | 200000 | 2      | 1      | 2      | 31     |  1     | -2     | -2     | -1     | -1     | ...    |  2907  |  2400  |   945  | 4210   |    0   | 2907   |   2400 |  945   |     0  | 0      |\n",
       "| 26803 | 130000 | 1      | 3      | 1      | 38     |  0     |  0     |  0     |  0     | -1     | ...    |  6931  | 99416  | 99702  | 1088   | 1189   | 2646   | 104590 | 3358   |  3314  | 0      |\n",
       "| 25102 |  30000 | 2      | 2      | 2      | 22     |  1     |  2     |  2     | -1     |  2     | ...    |  1129  |  1470  |   339  |   10   |    0   | 1470   |    341 |    0   | 12324  | 1      |\n",
       "| 28867 |  80000 | 2      | 3      | 1      | 48     | -1     | -1     |  2     | -1     | -1     | ...    |   792  |     0  |   396  |  792   |    0   |  792   |      0 |  396   |   546  | 1      |\n",
       "| 2986 | 150000 | 2      | 3      | 1      | 43     |  0     |  0     |  0     |  0     |  0     | ...    | 91550  | 89586  | 88300  | 4348   | 3229   | 3150   |   3348 | 3244   |  8778  | 0      |\n",
       "\n"
      ],
      "text/plain": [
       "      Amt_credit Gender Edu_Lvl Marital Age PayRec_Sep PayRec_Aug PayRec_Jul\n",
       "18847 360000     2      1       1       31   0          0          0        \n",
       "18895 200000     2      1       2       31   1         -2         -2        \n",
       "26803 130000     1      3       1       38   0          0          0        \n",
       "25102  30000     2      2       2       22   1          2          2        \n",
       "28867  80000     2      3       1       48  -1         -1          2        \n",
       "2986  150000     2      3       1       43   0          0          0        \n",
       "      PayRec_Jun PayRec_May ... BillAmt_Jun BillAmt_May BillAmt_Apr PaidAmt_Sep\n",
       "18847  0          0         ...  8605       28405        -105       5006       \n",
       "18895 -1         -1         ...  2907        2400         945       4210       \n",
       "26803  0         -1         ...  6931       99416       99702       1088       \n",
       "25102 -1          2         ...  1129        1470         339         10       \n",
       "28867 -1         -1         ...   792           0         396        792       \n",
       "2986   0          0         ... 91550       89586       88300       4348       \n",
       "      PaidAmt_Aug PaidAmt_Jul PaidAmt_Jun PaidAmt_May PaidAmt_Apr Y\n",
       "18847 2000        4000         20000      5000         4000       0\n",
       "18895    0        2907          2400       945            0       0\n",
       "26803 1189        2646        104590      3358         3314       0\n",
       "25102    0        1470           341         0        12324       1\n",
       "28867    0         792             0       396          546       1\n",
       "2986  3229        3150          3348      3244         8778       0"
      ]
     },
     "metadata": {},
     "output_type": "display_data"
    },
    {
     "data": {
      "text/html": [
       "<table>\n",
       "<thead><tr><th></th><th scope=col>Amt_credit</th><th scope=col>Gender</th><th scope=col>Edu_Lvl</th><th scope=col>Marital</th><th scope=col>Age</th><th scope=col>PayRec_Sep</th><th scope=col>PayRec_Aug</th><th scope=col>PayRec_Jul</th><th scope=col>PayRec_Jun</th><th scope=col>PayRec_May</th><th scope=col>...</th><th scope=col>BillAmt_Jun</th><th scope=col>BillAmt_May</th><th scope=col>BillAmt_Apr</th><th scope=col>PaidAmt_Sep</th><th scope=col>PaidAmt_Aug</th><th scope=col>PaidAmt_Jul</th><th scope=col>PaidAmt_Jun</th><th scope=col>PaidAmt_May</th><th scope=col>PaidAmt_Apr</th><th scope=col>Y</th></tr></thead>\n",
       "<tbody>\n",
       "\t<tr><th scope=row>1</th><td> 20000</td><td>2     </td><td>2     </td><td>1     </td><td>24    </td><td> 2    </td><td> 2    </td><td>-1    </td><td>-1    </td><td>-2    </td><td>...   </td><td>    0 </td><td>    0 </td><td>    0 </td><td>    0 </td><td> 689  </td><td>   0  </td><td>    0 </td><td>   0  </td><td>   0  </td><td>1     </td></tr>\n",
       "\t<tr><th scope=row>3</th><td> 90000</td><td>2     </td><td>2     </td><td>2     </td><td>34    </td><td> 0    </td><td> 0    </td><td> 0    </td><td> 0    </td><td> 0    </td><td>...   </td><td>14331 </td><td>14948 </td><td>15549 </td><td> 1518 </td><td>1500  </td><td>1000  </td><td> 1000 </td><td>1000  </td><td>5000  </td><td>0     </td></tr>\n",
       "\t<tr><th scope=row>6</th><td> 50000</td><td>1     </td><td>1     </td><td>2     </td><td>37    </td><td> 0    </td><td> 0    </td><td> 0    </td><td> 0    </td><td> 0    </td><td>...   </td><td>19394 </td><td>19619 </td><td>20024 </td><td> 2500 </td><td>1815  </td><td> 657  </td><td> 1000 </td><td>1000  </td><td> 800  </td><td>0     </td></tr>\n",
       "\t<tr><th scope=row>8</th><td>100000</td><td>2     </td><td>2     </td><td>2     </td><td>23    </td><td> 0    </td><td>-1    </td><td>-1    </td><td> 0    </td><td> 0    </td><td>...   </td><td>  221 </td><td> -159 </td><td>  567 </td><td>  380 </td><td> 601  </td><td>   0  </td><td>  581 </td><td>1687  </td><td>1542  </td><td>0     </td></tr>\n",
       "\t<tr><th scope=row>9</th><td>140000</td><td>2     </td><td>3     </td><td>1     </td><td>28    </td><td> 0    </td><td> 0    </td><td> 2    </td><td> 0    </td><td> 0    </td><td>...   </td><td>12211 </td><td>11793 </td><td> 3719 </td><td> 3329 </td><td>   0  </td><td> 432  </td><td> 1000 </td><td>1000  </td><td>1000  </td><td>0     </td></tr>\n",
       "\t<tr><th scope=row>12</th><td>260000</td><td>2     </td><td>1     </td><td>2     </td><td>51    </td><td>-1    </td><td>-1    </td><td>-1    </td><td>-1    </td><td>-1    </td><td>...   </td><td> 8517 </td><td>22287 </td><td>13668 </td><td>21818 </td><td>9966  </td><td>8583  </td><td>22301 </td><td>   0  </td><td>3640  </td><td>0     </td></tr>\n",
       "</tbody>\n",
       "</table>\n"
      ],
      "text/latex": [
       "\\begin{tabular}{r|llllllllllllllllllllllll}\n",
       "  & Amt\\_credit & Gender & Edu\\_Lvl & Marital & Age & PayRec\\_Sep & PayRec\\_Aug & PayRec\\_Jul & PayRec\\_Jun & PayRec\\_May & ... & BillAmt\\_Jun & BillAmt\\_May & BillAmt\\_Apr & PaidAmt\\_Sep & PaidAmt\\_Aug & PaidAmt\\_Jul & PaidAmt\\_Jun & PaidAmt\\_May & PaidAmt\\_Apr & Y\\\\\n",
       "\\hline\n",
       "\t1 &  20000 & 2      & 2      & 1      & 24     &  2     &  2     & -1     & -1     & -2     & ...    &     0  &     0  &     0  &     0  &  689   &    0   &     0  &    0   &    0   & 1     \\\\\n",
       "\t3 &  90000 & 2      & 2      & 2      & 34     &  0     &  0     &  0     &  0     &  0     & ...    & 14331  & 14948  & 15549  &  1518  & 1500   & 1000   &  1000  & 1000   & 5000   & 0     \\\\\n",
       "\t6 &  50000 & 1      & 1      & 2      & 37     &  0     &  0     &  0     &  0     &  0     & ...    & 19394  & 19619  & 20024  &  2500  & 1815   &  657   &  1000  & 1000   &  800   & 0     \\\\\n",
       "\t8 & 100000 & 2      & 2      & 2      & 23     &  0     & -1     & -1     &  0     &  0     & ...    &   221  &  -159  &   567  &   380  &  601   &    0   &   581  & 1687   & 1542   & 0     \\\\\n",
       "\t9 & 140000 & 2      & 3      & 1      & 28     &  0     &  0     &  2     &  0     &  0     & ...    & 12211  & 11793  &  3719  &  3329  &    0   &  432   &  1000  & 1000   & 1000   & 0     \\\\\n",
       "\t12 & 260000 & 2      & 1      & 2      & 51     & -1     & -1     & -1     & -1     & -1     & ...    &  8517  & 22287  & 13668  & 21818  & 9966   & 8583   & 22301  &    0   & 3640   & 0     \\\\\n",
       "\\end{tabular}\n"
      ],
      "text/markdown": [
       "\n",
       "| <!--/--> | Amt_credit | Gender | Edu_Lvl | Marital | Age | PayRec_Sep | PayRec_Aug | PayRec_Jul | PayRec_Jun | PayRec_May | ... | BillAmt_Jun | BillAmt_May | BillAmt_Apr | PaidAmt_Sep | PaidAmt_Aug | PaidAmt_Jul | PaidAmt_Jun | PaidAmt_May | PaidAmt_Apr | Y |\n",
       "|---|---|---|---|---|---|---|---|---|---|---|---|---|---|---|---|---|---|---|---|---|---|\n",
       "| 1 |  20000 | 2      | 2      | 1      | 24     |  2     |  2     | -1     | -1     | -2     | ...    |     0  |     0  |     0  |     0  |  689   |    0   |     0  |    0   |    0   | 1      |\n",
       "| 3 |  90000 | 2      | 2      | 2      | 34     |  0     |  0     |  0     |  0     |  0     | ...    | 14331  | 14948  | 15549  |  1518  | 1500   | 1000   |  1000  | 1000   | 5000   | 0      |\n",
       "| 6 |  50000 | 1      | 1      | 2      | 37     |  0     |  0     |  0     |  0     |  0     | ...    | 19394  | 19619  | 20024  |  2500  | 1815   |  657   |  1000  | 1000   |  800   | 0      |\n",
       "| 8 | 100000 | 2      | 2      | 2      | 23     |  0     | -1     | -1     |  0     |  0     | ...    |   221  |  -159  |   567  |   380  |  601   |    0   |   581  | 1687   | 1542   | 0      |\n",
       "| 9 | 140000 | 2      | 3      | 1      | 28     |  0     |  0     |  2     |  0     |  0     | ...    | 12211  | 11793  |  3719  |  3329  |    0   |  432   |  1000  | 1000   | 1000   | 0      |\n",
       "| 12 | 260000 | 2      | 1      | 2      | 51     | -1     | -1     | -1     | -1     | -1     | ...    |  8517  | 22287  | 13668  | 21818  | 9966   | 8583   | 22301  |    0   | 3640   | 0      |\n",
       "\n"
      ],
      "text/plain": [
       "   Amt_credit Gender Edu_Lvl Marital Age PayRec_Sep PayRec_Aug PayRec_Jul\n",
       "1   20000     2      2       1       24   2          2         -1        \n",
       "3   90000     2      2       2       34   0          0          0        \n",
       "6   50000     1      1       2       37   0          0          0        \n",
       "8  100000     2      2       2       23   0         -1         -1        \n",
       "9  140000     2      3       1       28   0          0          2        \n",
       "12 260000     2      1       2       51  -1         -1         -1        \n",
       "   PayRec_Jun PayRec_May ... BillAmt_Jun BillAmt_May BillAmt_Apr PaidAmt_Sep\n",
       "1  -1         -2         ...     0           0           0           0      \n",
       "3   0          0         ... 14331       14948       15549        1518      \n",
       "6   0          0         ... 19394       19619       20024        2500      \n",
       "8   0          0         ...   221        -159         567         380      \n",
       "9   0          0         ... 12211       11793        3719        3329      \n",
       "12 -1         -1         ...  8517       22287       13668       21818      \n",
       "   PaidAmt_Aug PaidAmt_Jul PaidAmt_Jun PaidAmt_May PaidAmt_Apr Y\n",
       "1   689           0            0          0           0        1\n",
       "3  1500        1000         1000       1000        5000        0\n",
       "6  1815         657         1000       1000         800        0\n",
       "8   601           0          581       1687        1542        0\n",
       "9     0         432         1000       1000        1000        0\n",
       "12 9966        8583        22301          0        3640        0"
      ]
     },
     "metadata": {},
     "output_type": "display_data"
    }
   ],
   "source": [
    "## Splitting into train and test set\n",
    "\n",
    "n <- length(card_renamed$Y)\n",
    "set.seed(123)\n",
    "index <- 1:nrow(card_renamed)\n",
    "trainindex <- sample(index, trunc(n)/2)\n",
    "train.data <-card_renamed[trainindex,]\n",
    "test.data <- card_renamed[-trainindex,]\n",
    "ntrain <- length(train.data)\n",
    "ntest <- length(test.data)\n",
    "\n",
    "head(train.data)\n",
    "head(test.data)"
   ]
  },
  {
   "cell_type": "markdown",
   "id": "87794145",
   "metadata": {},
   "source": [
    "#### Filter method for feature selection\n",
    "\n"
   ]
  },
  {
   "cell_type": "markdown",
   "id": "64b3a64d",
   "metadata": {},
   "source": [
    "First we perform Anova test for continuous variables on the final dependent variable. "
   ]
  },
  {
   "cell_type": "code",
   "execution_count": null,
   "id": "465539d8",
   "metadata": {
    "vscode": {
     "languageId": "r"
    }
   },
   "outputs": [],
   "source": [
    "## Anova test for each continuous variables\n",
    "train.data <- train.data %>% mutate(Y = droplevels(Y))\n",
    "\n",
    "## Select continuous variables\n",
    "cont.vars <- train.data[, c(2, 6, 13:24)]\n",
    "#cont.vars\n",
    "aov.stats <- data.frame(nrow = 13, ncol = 2)\n",
    "colnames(aov.stats) <- c(\"Variable\", \"p-value\")\n",
    "colnames <- c(\"Amt_Credit\", \"Age\", \"PayRec_Sep\", \"PayRec_Aug\", \"PayRec_Jul\", \"PayRec_Jun\", \"PayRec_May\", \"PayRec_Apr\", \"BillAmt_Sep\",\n",
    " \"BillAmt_Aug\", \"BillAmt_Jul\", \"BillAmt_Jun\", \"BillAmt_May\", \"BillAmt_Apr\")\n",
    "\n",
    "col <- ncol(cont.vars) - 1\n",
    "for (I in 1:col) {\n",
    "    x <- cont.vars[, I + 1]\n",
    "    #plot(x ~ train.data$Y)\n",
    "    x.aov <- aov(x ~ train.data$Y)\n",
    "    tests <- summary(x.aov)[[1]][1,5]\n",
    "    #str(tests)\n",
    "    #p_value <- tests[[1]]$'Pr(>F)'\n",
    "    aov.stats[I, 1] <- colnames[I]\n",
    "    aov.stats[I, 2] <- tests\n",
    "}\n",
    "\n",
    "aov.stats[order(aov.stats[,2]), ]\n",
    "## Variables 1, 8, 9, 10, 11, 12, 13 should be choosen according to ANOVA tests\n"
   ]
  },
  {
   "cell_type": "markdown",
   "id": "7d67c48c",
   "metadata": {},
   "source": [
    "Next, for categorical variables, Chi Squared Method is used to identify the most important features. "
   ]
  },
  {
   "cell_type": "code",
   "execution_count": null,
   "id": "95123b5c",
   "metadata": {
    "vscode": {
     "languageId": "r"
    }
   },
   "outputs": [],
   "source": [
    "## Chi square test is used for each categorical variables\n",
    "train.data <- train.data %>% mutate(Y = droplevels(Y))\n",
    "\n",
    "## Select categorical variables\n",
    "cat.vars <- train.data[, c(3:5, 7:12)]\n",
    "chi.stats <- data.frame(nrow = 9, ncol = 3)\n",
    "colnames(chi.stats) <- c(\"Variable\", \"Statistics\")\n",
    "colnames <- c(\"Gender\", \"Edu_Lvl\", \"Marital\", \"PayRec_Sep\", \"PayRec_Aug\", \"PayRec_Jul\", \"PayRec_Jun\", \"PayRec_May\", \"PayRec_Apr\")\n",
    "\n",
    "col <- ncol(cat.vars) - 1\n",
    "for (I in 1:col) {\n",
    "  x <- cat.vars[, I + 1]\n",
    "  tbl <- table(x, train.data$Y)\n",
    "  #print(tbl)\n",
    "  chi2res <- chisq.test(tbl)\n",
    "  #print(chi2res)\n",
    "  chi.stats[I, 1] <- colnames[I]\n",
    "  chi.stats[I, 2] <- chi2res$statistic\n",
    "  chi.stats[I, 3] <- chi2res$p.value\n",
    "}\n",
    "\n",
    "chi.stats[order(chi.stats[,2]), ]\n",
    "## Variable 1, 2, 5, 6, 7, 8 should be choosen according to Chi Square test"
   ]
  },
  {
   "cell_type": "markdown",
   "id": "b24e37bf",
   "metadata": {},
   "source": [
    "#### Wrapper method for feature selection"
   ]
  },
  {
   "cell_type": "markdown",
   "id": "ec661adf",
   "metadata": {},
   "source": [
    "For wrapper method, the package and method that we are going to use is the Boruta Method that utilises random forest decision tree model in computing for the importance of each feature. "
   ]
  },
  {
   "cell_type": "code",
   "execution_count": null,
   "id": "e6c76a98",
   "metadata": {
    "vscode": {
     "languageId": "r"
    }
   },
   "outputs": [],
   "source": [
    "## Setting up the package and library\n",
    "#install.packages(\"Boruta\")\n",
    "#install.packages(\"mlbench\")\n",
    "#install.packages(\"caret\", dependencies = TRUE)\n",
    "#install.packages(\"randomForest\")\n",
    "library(Boruta)\n",
    "library(mlbench)\n",
    "library(caret)\n",
    "library(randomForest)"
   ]
  },
  {
   "cell_type": "code",
   "execution_count": null,
   "id": "1c3d1577",
   "metadata": {
    "vscode": {
     "languageId": "r"
    }
   },
   "outputs": [],
   "source": [
    "## Running the Boruta method for feature importance\n",
    "\n",
    "set.seed(123)\n",
    "##idpt_vars <- train.data[, 2:23]\n",
    "##head(idpt_vars)\n",
    "\n",
    "## Running the feature selection Boruta Method\n",
    "boruta <- Boruta(Y ~ ., data = train.data, doTrace = 2, maxRuns = 20)"
   ]
  },
  {
   "cell_type": "code",
   "execution_count": null,
   "id": "48fa4f0d",
   "metadata": {
    "vscode": {
     "languageId": "r"
    }
   },
   "outputs": [],
   "source": [
    "## print results and plot\n",
    "print(boruta)\n",
    "plot(boruta, las = 2, cex.axis = 0.5)"
   ]
  },
  {
   "cell_type": "markdown",
   "id": "8a98b86b",
   "metadata": {},
   "source": [
    "#### Embedded method for feature selection"
   ]
  },
  {
   "cell_type": "markdown",
   "id": "12aaf46e",
   "metadata": {},
   "source": [
    "We utilises the information gain function from the FSelectorRcpp package to inspect and identify the important features in our model. "
   ]
  },
  {
   "cell_type": "code",
   "execution_count": null,
   "id": "44e08e5b",
   "metadata": {
    "vscode": {
     "languageId": "r"
    }
   },
   "outputs": [],
   "source": [
    "## importing relevant libraries\n",
    "library(FSelectorRcpp)\n",
    "\n",
    "## running the information gain algorithm to identify importance of each features\n",
    "IG.Fselector <- information_gain(Y ~ ., data = train.data)\n",
    "print(IG.Fselector[order(IG.Fselector[, 2]), ])"
   ]
  },
  {
   "cell_type": "markdown",
   "id": "2e067dbf",
   "metadata": {},
   "source": [
    "#### Model Selection"
   ]
  },
  {
   "cell_type": "markdown",
   "id": "a05b5c40",
   "metadata": {},
   "source": [
    "For our models, a way to identify the effectiveness and accuracy of each of our models is to evaluate each of the models based on accuracy, null accuracy, ROC and AUC values and harmonic mean. Each of these methods have their own merits and advantages, and by computing the confusion matrix and compute each of these values, we can get a deeper understanding on how each of our models are performing. \n",
    "\n",
    "For null accuracy, which is the accuracy that could be achieved by always predicting the most frequent class, is used as a metrics for reference for the effectiveness of the model on overall. If a model performs better than the null accuracy significantly, it suggests that the model itself is effective and should be utilises in our decision making. \n",
    "\n",
    "For harmonic mean, as it is a function of both recall and precision, it therefore strives and performs better in imbalanced datasets, where the accuracy score may be affected by the large number of data samples on one side. Therefore, we decided to include harmonic mean as a way to evaluate our model performance\n",
    "\n",
    "For ROC/AUC curves, the curve measures the sensitivity and specificity of the model, and provides us with a clearer view and  understanding on our final model. It also serves as a way to prevent overfitting from happening in our model. Essentially, this visualisation method provides us with a clearer understanding on the performance of our models, and thus is included as a way to evaluate our model. "
   ]
  },
  {
   "cell_type": "code",
   "execution_count": null,
   "id": "0e9a6a3e",
   "metadata": {
    "vscode": {
     "languageId": "r"
    }
   },
   "outputs": [],
   "source": [
    "## Computing null accuracy\n",
    "## training dataset\n",
    "table(train.data$Y, train.data$Y)\n",
    "train_null_acc <- 11656 / (11656 + 3310)\n",
    "\n",
    "## test dataset\n",
    "table(test.data$Y, test.data$Y)\n",
    "test_null_acc <- 11645 / (11645 + 3321)\n",
    "\n",
    "data.frame(train_null_acc, test_null_acc)"
   ]
  },
  {
   "cell_type": "markdown",
   "id": "998ae00d",
   "metadata": {},
   "source": [
    "#### Model 1 - Logistics regression"
   ]
  },
  {
   "cell_type": "code",
   "execution_count": null,
   "id": "5fac9c0e",
   "metadata": {
    "vscode": {
     "languageId": "r"
    }
   },
   "outputs": [],
   "source": [
    "## First model - Logistics regression (Without feature selection), using the variables identified in the ANOVA Method above\n",
    "log_model <- glm(as.factor(Y) ~ Amt_credit + PaidAmt_Sep + PaidAmt_Jun + PaidAmt_Jul + PaidAmt_Apr + PaidAmt_May + PaidAmt_Aug, data = train.data, family = binomial)\n",
    "summary(log_model)\n",
    "\n",
    "log_model2 <- glm(as.factor(Y) ~ Gender, data = train.data, family = binomial)\n",
    "summary(log_model2)\n",
    "\n",
    "log_model3 <- glm(as.factor(Y) ~ PayRec_Sep + PayRec_Aug + PayRec_Jul + PayRec_Jun + PayRec_May, data = train.data, family = binomial)\n",
    "summary(log_model3)\n",
    "\n",
    "log_model4 <- glm(as.factor(Y) ~ PayRec_Sep, data = train.data, family = binomial)\n",
    "summary(log_model4)\n",
    "\n",
    "log_model5 <- glm(as.factor(Y) ~ Amt_credit + PaidAmt_Sep + PaidAmt_Jun + PaidAmt_Jul + PaidAmt_Apr + PaidAmt_May + PaidAmt_Aug + PayRec_Aug + PayRec_Jul + PayRec_Jun + PayRec_May, data = train.data, family = binomial)\n",
    "summary(log_model5)\n"
   ]
  },
  {
   "cell_type": "code",
   "execution_count": 21,
   "id": "0c1178c1",
   "metadata": {
    "vscode": {
     "languageId": "r"
    }
   },
   "outputs": [
    {
     "data": {
      "text/plain": [
       "\n",
       "Call:\n",
       "glm(formula = Y ~ Marital + Age + PayRec_Sep + PayRec_Aug + PayRec_Jul + \n",
       "    PayRec_Jun + BillAmt_Sep + PaidAmt_Sep, family = binomial, \n",
       "    data = train.data)\n",
       "\n",
       "Deviance Residuals: \n",
       "    Min       1Q   Median       3Q      Max  \n",
       "-3.1946  -0.6836  -0.5627  -0.3133   3.3833  \n",
       "\n",
       "Coefficients:\n",
       "              Estimate Std. Error z value Pr(>|z|)    \n",
       "(Intercept) -1.287e+00  1.065e-01 -12.086  < 2e-16 ***\n",
       "Marital2    -1.339e-01  4.783e-02  -2.799  0.00512 ** \n",
       "Marital3    -5.491e-02  1.970e-01  -0.279  0.78049    \n",
       "Age          4.797e-03  2.521e-03   1.903  0.05702 .  \n",
       "PayRec_Sep   6.220e-01  2.464e-02  25.240  < 2e-16 ***\n",
       "PayRec_Aug   5.911e-02  2.809e-02   2.104  0.03536 *  \n",
       "PayRec_Jul   1.364e-01  3.090e-02   4.415 1.01e-05 ***\n",
       "PayRec_Jun   2.709e-02  2.723e-02   0.995  0.31978    \n",
       "BillAmt_Sep -2.217e-06  3.353e-07  -6.612 3.79e-11 ***\n",
       "PaidAmt_Sep -1.648e-05  3.119e-06  -5.283 1.27e-07 ***\n",
       "---\n",
       "Signif. codes:  0 '***' 0.001 '**' 0.01 '*' 0.05 '.' 0.1 ' ' 1\n",
       "\n",
       "(Dispersion parameter for binomial family taken to be 1)\n",
       "\n",
       "    Null deviance: 15816  on 14965  degrees of freedom\n",
       "Residual deviance: 14013  on 14956  degrees of freedom\n",
       "AIC: 14033\n",
       "\n",
       "Number of Fisher Scoring iterations: 6\n"
      ]
     },
     "metadata": {},
     "output_type": "display_data"
    },
    {
     "name": "stdout",
     "output_type": "stream",
     "text": [
      "[1] 0.4142972\n"
     ]
    },
    {
     "data": {
      "text/plain": [
       "   train.binpred_glm5\n",
       "        0     1\n",
       "  0 10999   657\n",
       "  1  2076  1234"
      ]
     },
     "metadata": {},
     "output_type": "display_data"
    },
    {
     "data": {
      "text/html": [
       "0.817386075103568"
      ],
      "text/latex": [
       "0.817386075103568"
      ],
      "text/markdown": [
       "0.817386075103568"
      ],
      "text/plain": [
       "[1] 0.8173861"
      ]
     },
     "metadata": {},
     "output_type": "display_data"
    },
    {
     "data": {
      "text/plain": [
       "   test.binpred_glm5\n",
       "        0     1\n",
       "  0 10199  1446\n",
       "  1  2876   445"
      ]
     },
     "metadata": {},
     "output_type": "display_data"
    },
    {
     "data": {
      "text/html": [
       "0.71121208071629"
      ],
      "text/latex": [
       "0.71121208071629"
      ],
      "text/markdown": [
       "0.71121208071629"
      ],
      "text/plain": [
       "[1] 0.7112121"
      ]
     },
     "metadata": {},
     "output_type": "display_data"
    },
    {
     "data": {
      "text/plain": [
       "                                 \n",
       " Method used: empirical          \n",
       " ===== Positive(s) =====         \n",
       " Number of positive(s): 3310     \n",
       " Mean of positive(s): 0.3728     \n",
       " Variance of positive(s): 0.2339 \n",
       " ===== Negative(s) =====         \n",
       " Number of negative(s): 11656    \n",
       " Mean of negative(s): 0.05637    \n",
       " Variance of negative(s): 0.05319\n",
       " ===== AUC =====                 \n",
       " Area under curve: 0.6582        \n",
       "                                 \n",
       " =========================       \n",
       "     FPR    TPR\n",
       " 0.00000 0.0000\n",
       " 0.05637 0.3728\n",
       " 1.00000 1.0000"
      ]
     },
     "metadata": {},
     "output_type": "display_data"
    },
    {
     "name": "stdout",
     "output_type": "stream",
     "text": [
      "[1] 0.8894909\n",
      "[1] 0.4745241\n"
     ]
    },
    {
     "data": {
      "text/plain": [
       "                                \n",
       " Method used: empirical         \n",
       " ===== Positive(s) =====        \n",
       " Number of positive(s): 3321    \n",
       " Mean of positive(s): 0.134     \n",
       " Variance of positive(s): 0.1161\n",
       " ===== Negative(s) =====        \n",
       " Number of negative(s): 11645   \n",
       " Mean of negative(s): 0.1242    \n",
       " Variance of negative(s): 0.1088\n",
       " ===== AUC =====                \n",
       " Area under curve: 0.5049       \n",
       "                                \n",
       " =========================      \n",
       "    FPR   TPR\n",
       " 0.0000 0.000\n",
       " 0.1242 0.134\n",
       " 1.0000 1.000"
      ]
     },
     "metadata": {},
     "output_type": "display_data"
    },
    {
     "data": {
      "image/png": "[encoded data removed]",
      "text/plain": [
       "plot without title"
      ]
     },
     "metadata": {},
     "output_type": "display_data"
    },
    {
     "name": "stdout",
     "output_type": "stream",
     "text": [
      "[1] 0.8251618\n",
      "[1] 0.1707598\n"
     ]
    },
    {
     "data": {
      "image/png": "[encoded data removed]",
      "text/plain": [
       "plot without title"
      ]
     },
     "metadata": {},
     "output_type": "display_data"
    }
   ],
   "source": [
    "## forward selection - model \n",
    "## install.packages(\"MLmetrics\")\n",
    "library(MLmetrics)\n",
    "library(caret)\n",
    "library(ROCit)\n",
    "library(InformationValue)\n",
    "log_model5 <- glm(Y ~ Marital + Age + PayRec_Sep + PayRec_Aug + PayRec_Jul + PayRec_Jun + BillAmt_Sep + PaidAmt_Sep, data = train.data, family = binomial)\n",
    "summary(log_model5)\n",
    "\n",
    "## prediction on the test dataset (Logistics regression model 5)\n",
    "train.log_model5_pred <- predict(log_model5, data = train.data, type = \"response\")\n",
    "test.log_model5_pred <- predict(log_model5, data = test.data, type = \"response\")\n",
    "\n",
    "## Finding the optimal cutoff \n",
    "optcut <- optimalCutoff(train.data$Y, train.log_model5_pred, optimiseFor = \"misclasserror\")\n",
    "print(optcut)\n",
    "\n",
    "## Classifying based on the prediction model (train dataset)\n",
    "train.binpred_glm5 <- ifelse(train.log_model5_pred < optcut ,0,1)\n",
    "table(train.data$Y, train.binpred_glm5)\n",
    "mean(train.data$Y == train.binpred_glm5)\n",
    "\n",
    "## Classifying based on the prediction model (test dataset)\n",
    "test.binpred_glm5 <- ifelse(test.log_model5_pred < optcut ,0,1)\n",
    "table(test.data$Y, test.binpred_glm5)\n",
    "mean(test.data$Y == test.binpred_glm5)\n",
    "\n",
    "## for training set (Logistics regression model 1)\n",
    "train.roc5 <- rocit(train.binpred_glm5, train.data$Y)\n",
    "train.roc5\n",
    "plot(train.roc5)\n",
    "## compute harmonic mean 0 - non default 1 default (focus on 1 (default), as they bring losses to the bank)\n",
    "f1_train0 <- F1_Score(train.data$Y, train.binpred_glm5, positive = \"0\")\n",
    "print(f1_train0)\n",
    "f1_train1 <- F1_Score(train.data$Y, train.binpred_glm5, positive = \"1\")\n",
    "print(f1_train1)\n",
    "\n",
    "## for test set\n",
    "test.roc5 <- rocit(test.binpred_glm5, test.data$Y)\n",
    "test.roc5\n",
    "plot(test.roc5)\n",
    "## compute harmonic mean 0 - non default 1 default (focus on 1 (default), as they bring losses to the bank)\n",
    "f1_test0 <- F1_Score(test.data$Y, test.binpred_glm5, positive = \"0\")\n",
    "print(f1_test0)\n",
    "f1_test1 <- F1_Score(test.data$Y, test.binpred_glm5, positive = \"1\")\n",
    "print(f1_test1)"
   ]
  },
  {
   "cell_type": "code",
   "execution_count": null,
   "id": "664f29cc",
   "metadata": {
    "vscode": {
     "languageId": "r"
    }
   },
   "outputs": [],
   "source": [
    "## load relevant packages\n",
    "## install.packages(\"InformationValue\")\n",
    "## install.packages(\"ROCit\")\n",
    "library(ROCit)\n",
    "library(InformationValue)\n",
    "\n",
    "## prediction on the test dataset (Model 1)\n",
    "train.log_model_pred <- predict(log_model, data = train.data, type = \"response\")\n",
    "test.log_model_pred <- predict(log_model, data = test.data, type = \"response\")\n",
    "\n",
    "## Finding the optimal cutoff \n",
    "optcut <- optimalCutoff(train.data$Y, train.log_model_pred, optimiseFor = \"misclasserror\")\n",
    "print(optcut)\n",
    "\n",
    "## Classifying based on the prediction model (train dataset)\n",
    "train.binpred_glm <- ifelse(train.log_model_pred < optcut ,0,1)\n",
    "table(train.data$Y, train.binpred)\n",
    "mean(train.data$Y == train.binpred)\n",
    "\n",
    "## Classifying based on the prediction model (test dataset)\n",
    "test.binpred_glm <- ifelse(test.log_model_pred < optcut ,0,1)\n",
    "table(test.data$Y, test.binpred)\n",
    "mean(test.data$Y == test.binpred)\n",
    "\n",
    "## for training set (Logistics regression model 1)\n",
    "train.roc <- rocit(train.binpred_glm, train.data$Y)\n",
    "train.roc\n",
    "plot(train.roc)\n",
    "\n",
    "## for test set\n",
    "test.roc <- rocit(test.binpred_glm, test.data$Y)\n",
    "test.roc\n",
    "plot(test.roc)"
   ]
  },
  {
   "cell_type": "code",
   "execution_count": null,
   "id": "42f26f3e",
   "metadata": {
    "vscode": {
     "languageId": "r"
    }
   },
   "outputs": [],
   "source": [
    "## prediction on the test dataset (Logistics regression model 2)\n",
    "train.log_model2_pred <- predict(log_model2, data = train.data, type = \"response\")\n",
    "test.log_model2_pred <- predict(log_model2, data = test.data, type = \"response\")\n",
    "\n",
    "## Finding the optimal cutoff \n",
    "optcut <- optimalCutoff(train.data$Y, train.log_model2_pred, optimiseFor = \"misclasserror\")\n",
    "print(optcut)\n",
    "\n",
    "## Classifying based on the prediction model (train dataset)\n",
    "train.binpred_glm2 <- ifelse(train.log_model2_pred < optcut ,0,1)\n",
    "table(train.data$Y, train.binpred_glm2)\n",
    "mean(train.data$Y == train.binpred_glm2)\n",
    "\n",
    "## Classifying based on the prediction model (test dataset)\n",
    "test.binpred_glm2 <- ifelse(test.log_model2_pred < optcut ,0,1)\n",
    "table(test.data$Y, test.binpred_glm2)\n",
    "mean(test.data$Y == test.binpred_glm2)\n",
    "\n",
    "## for training set (Logistics regression model 1)\n",
    "train.roc2 <- rocit(train.binpred_glm2, train.data$Y)\n",
    "train.roc2\n",
    "plot(train.roc2)\n",
    "\n",
    "## for test set\n",
    "test.roc2 <- rocit(test.binpred_glm2, test.data$Y)\n",
    "test.roc2\n",
    "plot(test.roc2)"
   ]
  },
  {
   "cell_type": "code",
   "execution_count": null,
   "id": "9fb88edb",
   "metadata": {
    "vscode": {
     "languageId": "r"
    }
   },
   "outputs": [],
   "source": [
    "## prediction on the test dataset (Logistics regression model 3)\n",
    "train.log_model3_pred <- predict(log_model3, data = train.data, type = \"response\")\n",
    "test.log_model3_pred <- predict(log_model3, data = test.data, type = \"response\")\n",
    "\n",
    "## Finding the optimal cutoff \n",
    "optcut <- optimalCutoff(train.data$Y, train.log_model3_pred, optimiseFor = \"misclasserror\")\n",
    "print(optcut)\n",
    "\n",
    "## Classifying based on the prediction model (train dataset)\n",
    "train.binpred_glm3 <- ifelse(train.log_model3_pred < optcut ,0,1)\n",
    "table(train.data$Y, train.binpred_glm3)\n",
    "mean(train.data$Y == train.binpred_glm3)\n",
    "\n",
    "## Classifying based on the prediction model (test dataset)\n",
    "test.binpred_glm3 <- ifelse(test.log_model3_pred < optcut ,0,1)\n",
    "table(test.data$Y, test.binpred_glm3)\n",
    "mean(test.data$Y == test.binpred_glm3)\n",
    "\n",
    "## for training set (Logistics regression model 1)\n",
    "train.roc3 <- rocit(train.binpred_glm3, train.data$Y)\n",
    "train.roc3\n",
    "plot(train.roc3)\n",
    "\n",
    "## for test set\n",
    "test.roc3 <- rocit(test.binpred_glm3, test.data$Y)\n",
    "test.roc3\n",
    "plot(test.roc3)"
   ]
  },
  {
   "cell_type": "code",
   "execution_count": null,
   "id": "63bdd46c",
   "metadata": {
    "vscode": {
     "languageId": "r"
    }
   },
   "outputs": [],
   "source": [
    "## prediction on the test dataset (Logistics regression model 4)\n",
    "train.log_model4_pred <- predict(log_model4, data = train.data, type = \"response\")\n",
    "test.log_model4_pred <- predict(log_model4, data = test.data, type = \"response\")\n",
    "\n",
    "## Finding the optimal cutoff \n",
    "optcut <- optimalCutoff(train.data$Y, train.log_model4_pred, optimiseFor = \"misclasserror\")\n",
    "print(optcut)\n",
    "\n",
    "## Classifying based on the prediction model (train dataset)\n",
    "train.binpred_glm4 <- ifelse(train.log_model4_pred < optcut ,0,1)\n",
    "table(train.data$Y, train.binpred_glm4)\n",
    "mean(train.data$Y == train.binpred_glm4)\n",
    "\n",
    "## Classifying based on the prediction model (test dataset)\n",
    "test.binpred_glm4 <- ifelse(test.log_model4_pred < optcut ,0,1)\n",
    "table(test.data$Y, test.binpred_glm4)\n",
    "mean(test.data$Y == test.binpred_glm4)\n",
    "\n",
    "## for training set (Logistics regression model 1)\n",
    "train.roc4 <- rocit(train.binpred_glm4, train.data$Y)\n",
    "train.roc4\n",
    "plot(train.roc4)\n",
    "\n",
    "## for test set\n",
    "test.roc4 <- rocit(test.binpred_glm4, test.data$Y)\n",
    "test.roc4\n",
    "plot(test.roc4)"
   ]
  },
  {
   "cell_type": "code",
   "execution_count": null,
   "id": "63bdd46c",
   "metadata": {
    "vscode": {
     "languageId": "r"
    }
   },
   "outputs": [],
   "source": [
    "## prediction on the test dataset (Logistics regression model 5)\n",
    "train.log_model5_pred <- predict(log_model5, data = train.data, type = \"response\")\n",
    "test.log_model5_pred <- predict(log_model5, data = test.data, type = \"response\")\n",
    "\n",
    "## Finding the optimal cutoff \n",
    "optcut <- optimalCutoff(train.data$Y, train.log_model5_pred, optimiseFor = \"misclasserror\")\n",
    "print(optcut)\n",
    "\n",
    "## Classifying based on the prediction model (train dataset)\n",
    "train.binpred_glm5 <- ifelse(train.log_model5_pred < optcut ,0,1)\n",
    "table(train.data$Y, train.binpred_glm5)\n",
    "mean(train.data$Y == train.binpred_glm5)\n",
    "\n",
    "## Classifying based on the prediction model (test dataset)\n",
    "test.binpred_glm5 <- ifelse(test.log_model5_pred < optcut ,0,1)\n",
    "table(test.data$Y, test.binpred_glm5)\n",
    "mean(test.data$Y == test.binpred_glm5)\n",
    "\n",
    "## for training set (Logistics regression model 1)\n",
    "train.roc5 <- rocit(train.binpred_glm5, train.data$Y)\n",
    "train.roc5\n",
    "plot(train.roc5)\n",
    "\n",
    "## for test set\n",
    "test.roc5 <- rocit(test.binpred_glm5, test.data$Y)\n",
    "test.roc5\n",
    "plot(test.roc5)"
   ]
  },
  {
   "cell_type": "markdown",
   "id": "28efb5c1",
   "metadata": {},
   "source": [
    "#### Model 2 - SVM model"
   ]
  },
  {
   "cell_type": "code",
   "execution_count": null,
   "id": "23bd961a",
   "metadata": {
    "vscode": {
     "languageId": "r"
    }
   },
   "outputs": [],
   "source": [
    "## Second model - SVM \n",
    "\n",
    "## loading relevant packages\n",
    "library(e1071)\n",
    "\n",
    "## Running the SVM model\n",
    "## running best features that are listed in above\n",
    "svm_model <- svm(as.factor(Y) ~ PayRec_Sep + Amt_credit + PayRec_Aug + PayRec_Jul + PayRec_Aug + BillAmt_Jun, data = train.data, type = \"C-classification\", kernel = \"radial\")\n",
    "svm_model\n",
    "\n",
    "## running worst features that are listed in above\n",
    "svm_model2 <- svm(as.factor(Y) ~ Gender + Marital + Age + Edu_Lvl, data = train.data, type = \"C-classification\", kernel = \"radial\")\n",
    "svm_model2\n",
    "\n",
    "## running model with kernel linear\n",
    "svm_model3 <- svm(as.factor(Y) ~ Gender + Marital + Age + Edu_Lvl, data = train.data, type = \"C-classification\", kernel = \"linear\")\n",
    "svm_model3\n"
   ]
  },
  {
   "cell_type": "code",
   "execution_count": 76,
   "id": "3cec7031",
   "metadata": {
    "vscode": {
     "languageId": "r"
    }
   },
   "outputs": [
    {
     "data": {
      "text/plain": [
       "\n",
       "Call:\n",
       "svm(formula = as.factor(Y) ~ Marital + Age + PayRec_Sep + PayRec_Aug + \n",
       "    PayRec_Jul + PayRec_Jun + BillAmt_Sep + PaidAmt_Sep, data = train.data, \n",
       "    type = \"C-classification\", kernel = \"radial\")\n",
       "\n",
       "\n",
       "Parameters:\n",
       "   SVM-Type:  C-classification \n",
       " SVM-Kernel:  radial \n",
       "       cost:  1 \n",
       "      gamma:  0.1 \n",
       "\n",
       "Number of Support Vectors:  6348\n"
      ]
     },
     "metadata": {},
     "output_type": "display_data"
    },
    {
     "data": {
      "text/plain": [
       "    actual\n",
       "pred     0     1\n",
       "   0 11205  2204\n",
       "   1   451  1106"
      ]
     },
     "metadata": {},
     "output_type": "display_data"
    },
    {
     "data": {
      "text/html": [
       "0.822597888547374"
      ],
      "text/latex": [
       "0.822597888547374"
      ],
      "text/markdown": [
       "0.822597888547374"
      ],
      "text/plain": [
       "[1] 0.8225979"
      ]
     },
     "metadata": {},
     "output_type": "display_data"
    },
    {
     "data": {
      "text/plain": [
       "    actual\n",
       "pred     0     1\n",
       "   0 11208  2258\n",
       "   1   437  1063"
      ]
     },
     "metadata": {},
     "output_type": "display_data"
    },
    {
     "data": {
      "text/html": [
       "0.819925163704397"
      ],
      "text/latex": [
       "0.819925163704397"
      ],
      "text/markdown": [
       "0.819925163704397"
      ],
      "text/plain": [
       "[1] 0.8199252"
      ]
     },
     "metadata": {},
     "output_type": "display_data"
    },
    {
     "data": {
      "text/plain": [
       "                                \n",
       " Method used: empirical         \n",
       " ===== Positive(s) =====        \n",
       " Number of positive(s): 3310    \n",
       " Mean of positive(s): 1.334     \n",
       " Variance of positive(s): 0.2226\n",
       " ===== Negative(s) =====        \n",
       " Number of negative(s): 11656   \n",
       " Mean of negative(s): 1.039     \n",
       " Variance of negative(s): 0.0372\n",
       " ===== AUC =====                \n",
       " Area under curve: 0.6477       \n",
       "                                \n",
       " =========================      \n",
       "     FPR    TPR\n",
       " 0.00000 0.0000\n",
       " 0.03869 0.3341\n",
       " 1.00000 1.0000"
      ]
     },
     "metadata": {},
     "output_type": "display_data"
    },
    {
     "data": {
      "text/plain": [
       "                                 \n",
       " Method used: empirical          \n",
       " ===== Positive(s) =====         \n",
       " Number of positive(s): 3321     \n",
       " Mean of positive(s): 1.32       \n",
       " Variance of positive(s): 0.2177 \n",
       " ===== Negative(s) =====         \n",
       " Number of negative(s): 11645    \n",
       " Mean of negative(s): 1.038      \n",
       " Variance of negative(s): 0.03612\n",
       " ===== AUC =====                 \n",
       " Area under curve: 0.6413        \n",
       "                                 \n",
       " =========================       \n",
       "     FPR    TPR\n",
       " 0.00000 0.0000\n",
       " 0.03753 0.3201\n",
       " 1.00000 1.0000"
      ]
     },
     "metadata": {},
     "output_type": "display_data"
    },
    {
     "data": {
      "image/png": "[encoded data removed]",
      "text/plain": [
       "plot without title"
      ]
     },
     "metadata": {},
     "output_type": "display_data"
    },
    {
     "data": {
      "image/png": "[encoded data removed]",
      "text/plain": [
       "plot without title"
      ]
     },
     "metadata": {},
     "output_type": "display_data"
    }
   ],
   "source": [
    "## forward selection \n",
    "svm_model3 <- svm(as.factor(Y) ~ Marital + Age + PayRec_Sep + PayRec_Aug + PayRec_Jul + PayRec_Jun + BillAmt_Sep + PaidAmt_Sep, data = train.data, type = \"C-classification\", kernel = \"radial\")\n",
    "svm_model3\n",
    "\n",
    "## testing and calculating the accuracy for the prediction model\n",
    "results_train <- predict(svm_model3, train.data)\n",
    "results_test <- predict(svm_model3, test.data)\n",
    "\n",
    "## Classifying based on the prediction model (train dataset)\n",
    "table(pred=results_train,actual=train.data$Y)\n",
    "mean(results_train == train.data$Y)\n",
    "\n",
    "## Classifying based on the prediction model (test dataset)\n",
    "table(pred=results_test,actual=test.data$Y)\n",
    "mean(results_test == test.data$Y)\n",
    "\n",
    "## for training set\n",
    "train.roc <- rocit(as.numeric(results_train), train.data$Y)\n",
    "train.roc\n",
    "plot(train.roc)\n",
    "## compute harmonic mean 0 - non default 1 default (focus on 1 (default), as they bring losses to the bank)\n",
    "f1_train0 <- F1_Score(train.data$Y, results_train, positive = \"0\")\n",
    "print(\"train f1score 0 : %f\", f1_train0)\n",
    "f1_train1 <- F1_Score(train.data$Y, results_train, positive = \"1\")\n",
    "print(\"train f1score 1 : %f\", f1_train1)\n",
    "\n",
    "## for test set\n",
    "test.roc <- rocit(as.numeric(results_test), test.data$Y)\n",
    "test.roc\n",
    "plot(test.roc)\n",
    "## compute harmonic mean 0 - non default 1 default (focus on 1 (default), as they bring losses to the bank)\n",
    "f1_test0 <- F1_Score(train.data$Y, results_test, positive = \"0\")\n",
    "print(\"test f1score 0 : %f\", f1_train0)\n",
    "f1_test1 <- F1_Score(train.data$Y, results_test, positive = \"1\")\n",
    "print(\"test f1score 1 : %f\", f1_train1)"
   ]
  },
  {
   "cell_type": "code",
   "execution_count": null,
   "id": "569096de",
   "metadata": {
    "vscode": {
     "languageId": "r"
    }
   },
   "outputs": [],
   "source": [
    "## Using ROC curve for identifying accuracy\n",
    "## install.packages(\"ROCit\")\n",
    "library(ROCit)\n",
    "\n",
    "## testing and calculating the accuracy for the prediction model\n",
    "results_train <- predict(svm_model, train.data)\n",
    "results_test <- predict(svm_model, test.data)\n",
    "\n",
    "## Classifying based on the prediction model (train dataset)\n",
    "table(pred=results_train,actual=train.data$Y)\n",
    "mean(results_train == train.data$Y)\n",
    "\n",
    "## Classifying based on the prediction model (test dataset)\n",
    "table(pred=results_test,actual=test.data$Y)\n",
    "mean(results_test == test.data$Y)\n",
    "\n",
    "## for training set\n",
    "train.roc <- rocit(as.numeric(results_train), train.data$Y)\n",
    "train.roc\n",
    "plot(train.roc)\n",
    "\n",
    "## for test set\n",
    "test.roc <- rocit(as.numeric(results_test), test.data$Y)\n",
    "test.roc\n",
    "plot(test.roc)"
   ]
  },
  {
   "cell_type": "code",
   "execution_count": null,
   "id": "569096de",
   "metadata": {
    "vscode": {
     "languageId": "r"
    }
   },
   "outputs": [],
   "source": [
    "## Using ROC curve for identifying accuracy\n",
    "## install.packages(\"ROCit\")\n",
    "library(ROCit)\n",
    "\n",
    "## testing and calculating the accuracy for the prediction model\n",
    "results_train <- predict(svm_model2, train.data)\n",
    "results_test <- predict(svm_model2, test.data)\n",
    "\n",
    "## Classifying based on the prediction model (train dataset)\n",
    "table(pred=results_train,actual=train.data$Y)\n",
    "mean(results_train == train.data$Y)\n",
    "\n",
    "## Classifying based on the prediction model (test dataset)\n",
    "table(pred=results_test,actual=test.data$Y)\n",
    "mean(results_test == test.data$Y)\n",
    "\n",
    "## for training set\n",
    "train.roc <- rocit(as.numeric(results_train), train.data$Y)\n",
    "train.roc\n",
    "plot(train.roc)\n",
    "\n",
    "## for test set\n",
    "test.roc <- rocit(as.numeric(results_test), test.data$Y)\n",
    "test.roc\n",
    "plot(test.roc)"
   ]
  },
  {
   "cell_type": "code",
   "execution_count": null,
   "id": "569096de",
   "metadata": {
    "vscode": {
     "languageId": "r"
    }
   },
   "outputs": [],
   "source": [
    "## Using ROC curve for identifying accuracy\n",
    "## install.packages(\"ROCit\")\n",
    "library(ROCit)\n",
    "\n",
    "## testing and calculating the accuracy for the prediction model\n",
    "results_train <- predict(svm_model3, train.data)\n",
    "results_test <- predict(svm_model3, test.data)\n",
    "\n",
    "## Classifying based on the prediction model (train dataset)\n",
    "table(pred=results_train,actual=train.data$Y)\n",
    "mean(results_train == train.data$Y)\n",
    "\n",
    "## Classifying based on the prediction model (test dataset)\n",
    "table(pred=results_test,actual=test.data$Y)\n",
    "mean(results_test == test.data$Y)\n",
    "\n",
    "## for training set\n",
    "train.roc <- rocit(as.numeric(results_train), train.data$Y)\n",
    "train.roc\n",
    "plot(train.roc)\n",
    "\n",
    "## for test set\n",
    "test.roc <- rocit(as.numeric(results_test), test.data$Y)\n",
    "test.roc\n",
    "plot(test.roc)"
   ]
  },
  {
   "cell_type": "markdown",
   "id": "273867c0",
   "metadata": {},
   "source": [
    "#### Model 3 - Neural Network"
   ]
  },
  {
   "cell_type": "code",
   "execution_count": 7,
   "id": "9af60604",
   "metadata": {
    "vscode": {
     "languageId": "r"
    }
   },
   "outputs": [
    {
     "name": "stdout",
     "output_type": "stream",
     "text": [
      "# weights:  71\n",
      "initial  value 15686.507022 \n",
      "iter  10 value 7830.203493\n",
      "iter  20 value 7803.911948\n",
      "iter  30 value 7794.222321\n",
      "iter  40 value 7793.291764\n",
      "iter  50 value 7792.269408\n",
      "iter  60 value 7788.197436\n",
      "iter  70 value 7711.036514\n",
      "iter  80 value 7646.193182\n",
      "iter  90 value 7572.257432\n",
      "iter 100 value 7402.343330\n",
      "iter 110 value 7116.163672\n",
      "iter 120 value 6836.099091\n",
      "iter 130 value 6647.424844\n",
      "iter 140 value 6626.699709\n",
      "iter 150 value 6626.547531\n",
      "iter 150 value 6626.547530\n",
      "final  value 6626.546815 \n",
      "converged\n",
      "# weights:  91\n",
      "initial  value 7910.258706 \n",
      "iter  10 value 7906.122564\n",
      "iter  20 value 7878.678923\n",
      "iter  30 value 7856.649733\n",
      "iter  40 value 7846.442336\n",
      "iter  50 value 7844.104208\n",
      "iter  60 value 7839.010141\n",
      "iter  70 value 7834.411144\n",
      "iter  80 value 7831.803909\n",
      "iter  90 value 7830.445583\n",
      "iter 100 value 7829.554754\n",
      "iter 110 value 7827.958438\n",
      "iter 120 value 7827.197155\n",
      "iter 130 value 7826.758052\n",
      "iter 140 value 7826.393914\n",
      "iter 150 value 7826.193454\n",
      "iter 160 value 7825.954099\n",
      "iter 170 value 7825.799624\n",
      "iter 180 value 7825.632844\n",
      "iter 190 value 7825.464730\n",
      "iter 200 value 7825.131829\n",
      "iter 210 value 7824.641643\n",
      "iter 220 value 7824.268029\n",
      "iter 230 value 7824.148664\n",
      "iter 240 value 7824.024362\n",
      "iter 250 value 7823.473414\n",
      "iter 260 value 7823.132016\n",
      "iter 270 value 7823.065935\n",
      "iter 280 value 7823.046921\n",
      "iter 290 value 7823.029918\n",
      "iter 300 value 7823.014677\n",
      "iter 310 value 7823.006925\n",
      "iter 320 value 7822.984423\n",
      "iter 330 value 7822.963711\n",
      "iter 340 value 7822.950169\n",
      "iter 350 value 7822.942252\n",
      "iter 360 value 7822.937068\n",
      "iter 370 value 7822.932956\n",
      "iter 380 value 7822.922803\n",
      "iter 390 value 7822.900555\n",
      "iter 400 value 7822.875935\n",
      "iter 410 value 7822.854140\n",
      "final  value 7822.853272 \n",
      "converged\n"
     ]
    },
    {
     "data": {
      "image/png": "[encoded data removed]",
      "text/plain": [
       "plot without title"
      ]
     },
     "metadata": {},
     "output_type": "display_data"
    },
    {
     "data": {
      "image/png": "[encoded data removed]",
      "text/plain": [
       "plot without title"
      ]
     },
     "metadata": {},
     "output_type": "display_data"
    }
   ],
   "source": [
    "## Third model - Neural Network\n",
    "## loading relevant packages\n",
    "## install.packages(\"NeuralNetTools\")\n",
    "library(NeuralNetTools)\n",
    "library(nnet)\n",
    "\n",
    "## Running the neural network model (best model)\n",
    "set.seed(123)\n",
    "nn_model <- nnet(Y ~ PayRec_Sep + Amt_credit + PayRec_Aug + PayRec_Jul + PayRec_Aug + BillAmt_Jun, data = train.data, maxit = 1000, size = 10, decay = 0.08)\n",
    "plotnet(nn_model)\n",
    "\n",
    "nn_model2 <- nnet(Y ~ Gender + Marital + Age + Edu_Lvl, data = train.data, maxit = 1000, size = 10, decay = 0.08)\n",
    "plotnet(nn_model2)"
   ]
  },
  {
   "cell_type": "code",
   "execution_count": 11,
   "id": "62f53b3d",
   "metadata": {
    "vscode": {
     "languageId": "r"
    }
   },
   "outputs": [
    {
     "name": "stderr",
     "output_type": "stream",
     "text": [
      "\n",
      "Attaching package: 'MLmetrics'\n",
      "\n",
      "The following object is masked from 'package:base':\n",
      "\n",
      "    Recall\n",
      "\n"
     ]
    },
    {
     "name": "stdout",
     "output_type": "stream",
     "text": [
      "# weights:  91\n",
      "initial  value 7963.525811 \n",
      "iter  10 value 7891.204925\n",
      "iter  20 value 7832.116831\n",
      "iter  30 value 7674.655023\n",
      "iter  40 value 7574.054802\n",
      "iter  50 value 7354.616213\n",
      "iter  60 value 6899.644009\n",
      "iter  70 value 6844.716008\n",
      "iter  80 value 6835.162300\n",
      "iter  90 value 6810.804471\n",
      "iter 100 value 6708.930826\n",
      "iter 110 value 6677.763109\n",
      "iter 120 value 6670.805097\n",
      "iter 130 value 6668.787890\n",
      "iter 140 value 6660.579424\n",
      "final  value 6659.899997 \n",
      "converged\n"
     ]
    },
    {
     "data": {
      "text/html": [
       "'Train Accuracy: 0.820593'"
      ],
      "text/latex": [
       "'Train Accuracy: 0.820593'"
      ],
      "text/markdown": [
       "'Train Accuracy: 0.820593'"
      ],
      "text/plain": [
       "[1] \"Train Accuracy: 0.820593\""
      ]
     },
     "metadata": {},
     "output_type": "display_data"
    },
    {
     "data": {
      "text/html": [
       "'Train Harmonic Mean: 0.513858'"
      ],
      "text/latex": [
       "'Train Harmonic Mean: 0.513858'"
      ],
      "text/markdown": [
       "'Train Harmonic Mean: 0.513858'"
      ],
      "text/plain": [
       "[1] \"Train Harmonic Mean: 0.513858\""
      ]
     },
     "metadata": {},
     "output_type": "display_data"
    },
    {
     "data": {
      "text/html": [
       "'train f1score 0 : 0.892251'"
      ],
      "text/latex": [
       "'train f1score 0 : 0.892251'"
      ],
      "text/markdown": [
       "'train f1score 0 : 0.892251'"
      ],
      "text/plain": [
       "[1] \"train f1score 0 : 0.892251\""
      ]
     },
     "metadata": {},
     "output_type": "display_data"
    },
    {
     "data": {
      "text/html": [
       "'train f1score 1 : 0.464393'"
      ],
      "text/latex": [
       "'train f1score 1 : 0.464393'"
      ],
      "text/markdown": [
       "'train f1score 1 : 0.464393'"
      ],
      "text/plain": [
       "[1] \"train f1score 1 : 0.464393\""
      ]
     },
     "metadata": {},
     "output_type": "display_data"
    },
    {
     "data": {
      "text/html": [
       "'Train Accuracy: 0.817653'"
      ],
      "text/latex": [
       "'Train Accuracy: 0.817653'"
      ],
      "text/markdown": [
       "'Train Accuracy: 0.817653'"
      ],
      "text/plain": [
       "[1] \"Train Accuracy: 0.817653\""
      ]
     },
     "metadata": {},
     "output_type": "display_data"
    },
    {
     "data": {
      "text/html": [
       "'Train Harmonic Mean: 0.500952'"
      ],
      "text/latex": [
       "'Train Harmonic Mean: 0.500952'"
      ],
      "text/markdown": [
       "'Train Harmonic Mean: 0.500952'"
      ],
      "text/plain": [
       "[1] \"Train Harmonic Mean: 0.500952\""
      ]
     },
     "metadata": {},
     "output_type": "display_data"
    },
    {
     "data": {
      "text/html": [
       "'test f1score 0 : 0.892251'"
      ],
      "text/latex": [
       "'test f1score 0 : 0.892251'"
      ],
      "text/markdown": [
       "'test f1score 0 : 0.892251'"
      ],
      "text/plain": [
       "[1] \"test f1score 0 : 0.892251\""
      ]
     },
     "metadata": {},
     "output_type": "display_data"
    },
    {
     "data": {
      "text/html": [
       "'test f1score 1 : 0.464393'"
      ],
      "text/latex": [
       "'test f1score 1 : 0.464393'"
      ],
      "text/markdown": [
       "'test f1score 1 : 0.464393'"
      ],
      "text/plain": [
       "[1] \"test f1score 1 : 0.464393\""
      ]
     },
     "metadata": {},
     "output_type": "display_data"
    },
    {
     "data": {
      "text/plain": [
       "                                 \n",
       " Method used: empirical          \n",
       " ===== Positive(s) =====         \n",
       " Number of positive(s): 3310     \n",
       " Mean of positive(s): 0.3517     \n",
       " Variance of positive(s): 0.2281 \n",
       " ===== Negative(s) =====         \n",
       " Number of negative(s): 11656    \n",
       " Mean of negative(s): 0.04624    \n",
       " Variance of negative(s): 0.04411\n",
       " ===== AUC =====                 \n",
       " Area under curve: 0.6527        \n",
       "                                 \n",
       " =========================       \n",
       "     FPR    TPR\n",
       " 0.00000 0.0000\n",
       " 0.04624 0.3517\n",
       " 1.00000 1.0000"
      ]
     },
     "metadata": {},
     "output_type": "display_data"
    },
    {
     "data": {
      "image/png": "[encoded data removed]",
      "text/plain": [
       "plot without title"
      ]
     },
     "metadata": {},
     "output_type": "display_data"
    },
    {
     "data": {
      "text/plain": [
       "                                 \n",
       " Method used: empirical          \n",
       " ===== Positive(s) =====         \n",
       " Number of positive(s): 3321     \n",
       " Mean of positive(s): 0.3397     \n",
       " Variance of positive(s): 0.2244 \n",
       " ===== Negative(s) =====         \n",
       " Number of negative(s): 11645    \n",
       " Mean of negative(s): 0.04603    \n",
       " Variance of negative(s): 0.04391\n",
       " ===== AUC =====                 \n",
       " Area under curve: 0.6468        \n",
       "                                 \n",
       " =========================       \n",
       "     FPR    TPR\n",
       " 0.00000 0.0000\n",
       " 0.04603 0.3397\n",
       " 1.00000 1.0000"
      ]
     },
     "metadata": {},
     "output_type": "display_data"
    },
    {
     "data": {
      "image/png": "[encoded data removed]",
      "text/plain": [
       "plot without title"
      ]
     },
     "metadata": {},
     "output_type": "display_data"
    },
    {
     "data": {
      "image/png": "[encoded data removed]",
      "text/plain": [
       "plot without title"
      ]
     },
     "metadata": {},
     "output_type": "display_data"
    }
   ],
   "source": [
    "library(ROCit)\n",
    "library(MLmetrics)\n",
    "harmonic_mean <- function(table) {\n",
    "  tab <- data.frame(table)\n",
    "  return (1/(0.5 * ((tab[1,3]+tab[2,3])/tab[1,3] + (tab[3,3]+tab[4,3])/tab[4,3])))\n",
    "}\n",
    "\n",
    "## running with forward selection\n",
    "nn_model2 <- nnet(Y ~ Marital + Age + PayRec_Sep + PayRec_Aug + PayRec_Jul + Amt_credit, data = train.data, maxit = 1000, size = 10, decay = 0.08)\n",
    "plotnet(nn_model2)\n",
    "\n",
    "## testing and calculating the accuracy for the prediction model (worst case)\n",
    "results_train <- predict(nn_model2, train.data, type = c(\"class\"))\n",
    "results_test <- predict(nn_model2, test.data, type = c(\"class\"))\n",
    "\n",
    "## Classifying based on the prediction model (train dataset)\n",
    "train_table_nn <- table(pred=results_train,actual=train.data$Y)\n",
    "sprintf(\"Train Accuracy: %f\", mean(results_train == train.data$Y))\n",
    "sprintf(\"Train Harmonic Mean: %f\", harmonic_mean(train_table_nn))\n",
    "## compute harmonic mean 0 - non default 1 default (focus on 1 (default), as they bring losses to the bank)\n",
    "f1_train0 <- F1_Score(train.data$Y, results_train, positive = \"0\")\n",
    "sprintf(\"train f1score 0 : %f\", f1_train0)\n",
    "f1_train1 <- F1_Score(train.data$Y, results_train, positive = \"1\")\n",
    "sprintf(\"train f1score 1 : %f\", f1_train1)\n",
    "\n",
    "## Classifying based on the prediction model (test dataset)\n",
    "test_table_nn <- table(pred=results_test,actual=test.data$Y)\n",
    "sprintf(\"Train Accuracy: %f\", mean(results_test == test.data$Y))\n",
    "sprintf(\"Train Harmonic Mean: %f\", harmonic_mean(test_table_nn))\n",
    "## compute harmonic mean 0 - non default 1 default (focus on 1 (default), as they bring losses to the bank)\n",
    "f1_test0 <- F1_Score(train.data$Y, results_test, positive = \"0\")\n",
    "sprintf(\"test f1score 0 : %f\", f1_train0)\n",
    "f1_test1 <- F1_Score(train.data$Y, results_test, positive = \"1\")\n",
    "sprintf(\"test f1score 1 : %f\", f1_train1)\n",
    "\n",
    "## for training set\n",
    "train.roc <- rocit(as.numeric(results_train), train.data$Y)\n",
    "train.roc\n",
    "plot(train.roc)\n",
    "\n",
    "## for test set\n",
    "test.roc <- rocit(as.numeric(results_test), test.data$Y)\n",
    "test.roc\n",
    "plot(test.roc)"
   ]
  },
  {
   "cell_type": "code",
   "execution_count": 61,
   "id": "97365d48",
   "metadata": {
    "vscode": {
     "languageId": "r"
    }
   },
   "outputs": [
    {
     "data": {
      "text/plain": [
       "    actual\n",
       "pred     0     1\n",
       "   0 11162  2186\n",
       "   1   494  1124"
      ]
     },
     "metadata": {},
     "output_type": "display_data"
    },
    {
     "data": {
      "text/html": [
       "0.820927435520513"
      ],
      "text/latex": [
       "0.820927435520513"
      ],
      "text/markdown": [
       "0.820927435520513"
      ],
      "text/plain": [
       "[1] 0.8209274"
      ]
     },
     "metadata": {},
     "output_type": "display_data"
    },
    {
     "data": {
      "text/plain": [
       "    actual\n",
       "pred     0     1\n",
       "   0 11172  2221\n",
       "   1   473  1100"
      ]
     },
     "metadata": {},
     "output_type": "display_data"
    },
    {
     "data": {
      "text/html": [
       "0.819991981825471"
      ],
      "text/latex": [
       "0.819991981825471"
      ],
      "text/markdown": [
       "0.819991981825471"
      ],
      "text/plain": [
       "[1] 0.819992"
      ]
     },
     "metadata": {},
     "output_type": "display_data"
    },
    {
     "data": {
      "text/plain": [
       "                                 \n",
       " Method used: empirical          \n",
       " ===== Positive(s) =====         \n",
       " Number of positive(s): 3310     \n",
       " Mean of positive(s): 0.3396     \n",
       " Variance of positive(s): 0.2243 \n",
       " ===== Negative(s) =====         \n",
       " Number of negative(s): 11656    \n",
       " Mean of negative(s): 0.04238    \n",
       " Variance of negative(s): 0.04059\n",
       " ===== AUC =====                 \n",
       " Area under curve: 0.6486        \n",
       "                                 \n",
       " =========================       \n",
       "     FPR    TPR\n",
       " 0.00000 0.0000\n",
       " 0.04238 0.3396\n",
       " 1.00000 1.0000"
      ]
     },
     "metadata": {},
     "output_type": "display_data"
    },
    {
     "data": {
      "text/plain": [
       "                                 \n",
       " Method used: empirical          \n",
       " ===== Positive(s) =====         \n",
       " Number of positive(s): 3321     \n",
       " Mean of positive(s): 0.3312     \n",
       " Variance of positive(s): 0.2216 \n",
       " ===== Negative(s) =====         \n",
       " Number of negative(s): 11645    \n",
       " Mean of negative(s): 0.04062    \n",
       " Variance of negative(s): 0.03897\n",
       " ===== AUC =====                 \n",
       " Area under curve: 0.6453        \n",
       "                                 \n",
       " =========================       \n",
       "     FPR    TPR\n",
       " 0.00000 0.0000\n",
       " 0.04062 0.3312\n",
       " 1.00000 1.0000"
      ]
     },
     "metadata": {},
     "output_type": "display_data"
    },
    {
     "data": {
      "image/png": "[encoded data removed]",
      "text/plain": [
       "plot without title"
      ]
     },
     "metadata": {},
     "output_type": "display_data"
    },
    {
     "data": {
      "image/png": "[encoded data removed]",
      "text/plain": [
       "plot without title"
      ]
     },
     "metadata": {},
     "output_type": "display_data"
    }
   ],
   "source": [
    "## testing and calculating the accuracy for the prediction model (best model)\n",
    "results_train <- predict(nn_model, train.data, type = c(\"class\"))\n",
    "results_test <- predict(nn_model, test.data, type = c(\"class\"))\n",
    "\n",
    "## Classifying based on the prediction model (train dataset)\n",
    "table(pred=results_train,actual=train.data$Y)\n",
    "mean(results_train == train.data$Y)\n",
    "\n",
    "## Classifying based on the prediction model (test dataset)\n",
    "table(pred=results_test,actual=test.data$Y)\n",
    "mean(results_test == test.data$Y)\n",
    "\n",
    "## for training set\n",
    "train.roc <- rocit(as.numeric(results_train), train.data$Y)\n",
    "train.roc\n",
    "plot(train.roc)\n",
    "\n",
    "## for test set\n",
    "test.roc <- rocit(as.numeric(results_test), test.data$Y)\n",
    "test.roc\n",
    "plot(test.roc)"
   ]
  },
  {
   "cell_type": "code",
   "execution_count": 62,
   "id": "97365d48",
   "metadata": {
    "vscode": {
     "languageId": "r"
    }
   },
   "outputs": [
    {
     "data": {
      "text/plain": [
       "    actual\n",
       "pred     0     1\n",
       "   0 11656  3310"
      ]
     },
     "metadata": {},
     "output_type": "display_data"
    },
    {
     "data": {
      "text/html": [
       "0.778832019243619"
      ],
      "text/latex": [
       "0.778832019243619"
      ],
      "text/markdown": [
       "0.778832019243619"
      ],
      "text/plain": [
       "[1] 0.778832"
      ]
     },
     "metadata": {},
     "output_type": "display_data"
    },
    {
     "data": {
      "text/plain": [
       "    actual\n",
       "pred     0     1\n",
       "   0 11645  3321"
      ]
     },
     "metadata": {},
     "output_type": "display_data"
    },
    {
     "data": {
      "text/html": [
       "0.7780970199118"
      ],
      "text/latex": [
       "0.7780970199118"
      ],
      "text/markdown": [
       "0.7780970199118"
      ],
      "text/plain": [
       "[1] 0.778097"
      ]
     },
     "metadata": {},
     "output_type": "display_data"
    },
    {
     "data": {
      "text/plain": [
       "                             \n",
       " Method used: empirical      \n",
       " ===== Positive(s) =====     \n",
       " Number of positive(s): 3310 \n",
       " Mean of positive(s): 0      \n",
       " Variance of positive(s): 0  \n",
       " ===== Negative(s) =====     \n",
       " Number of negative(s): 11656\n",
       " Mean of negative(s): 0      \n",
       " Variance of negative(s): 0  \n",
       " ===== AUC =====             \n",
       " Area under curve: 0.5       \n",
       "                             \n",
       " =========================   \n",
       " FPR TPR\n",
       "   0   0\n",
       "   1   1"
      ]
     },
     "metadata": {},
     "output_type": "display_data"
    },
    {
     "data": {
      "text/plain": [
       "                             \n",
       " Method used: empirical      \n",
       " ===== Positive(s) =====     \n",
       " Number of positive(s): 3321 \n",
       " Mean of positive(s): 0      \n",
       " Variance of positive(s): 0  \n",
       " ===== Negative(s) =====     \n",
       " Number of negative(s): 11645\n",
       " Mean of negative(s): 0      \n",
       " Variance of negative(s): 0  \n",
       " ===== AUC =====             \n",
       " Area under curve: 0.5       \n",
       "                             \n",
       " =========================   \n",
       " FPR TPR\n",
       "   0   0\n",
       "   1   1"
      ]
     },
     "metadata": {},
     "output_type": "display_data"
    },
    {
     "data": {
      "image/png": "[encoded data removed]",
      "text/plain": [
       "plot without title"
      ]
     },
     "metadata": {},
     "output_type": "display_data"
    }
   ],
   "source": [
    "## testing and calculating the accuracy for the prediction model (worst case)\n",
    "results_train <- predict(nn_model2, train.data, type = c(\"class\"))\n",
    "results_test <- predict(nn_model2, test.data, type = c(\"class\"))\n",
    "\n",
    "## Classifying based on the prediction model (train dataset)\n",
    "table(pred=results_train,actual=train.data$Y)\n",
    "mean(results_train == train.data$Y)\n",
    "\n",
    "## Classifying based on the prediction model (test dataset)\n",
    "table(pred=results_test,actual=test.data$Y)\n",
    "mean(results_test == test.data$Y)\n",
    "\n",
    "## for training set\n",
    "train.roc <- rocit(as.numeric(results_train), train.data$Y)\n",
    "train.roc\n",
    "plot(train.roc)\n",
    "\n",
    "## for test set\n",
    "test.roc <- rocit(as.numeric(results_test), test.data$Y)\n",
    "test.roc\n",
    "plot(test.roc)"
   ]
  },
  {
   "cell_type": "markdown",
   "id": "480e55aa",
   "metadata": {},
   "source": [
    "#### Model 4 - Random Forest"
   ]
  },
  {
   "cell_type": "code",
   "execution_count": 63,
   "id": "9af60604",
   "metadata": {
    "vscode": {
     "languageId": "r"
    }
   },
   "outputs": [],
   "source": [
    "## Fourth model - Random Forest\n",
    "## loading relevant packages\n",
    "library(randomForest)\n",
    "\n",
    "## Running the random forest model (best model)\n",
    "set.seed(1234)\n",
    "rf_model <- randomForest(as.factor(Y) ~ PayRec_Sep + Amt_credit + PayRec_Aug + PayRec_Jul + PayRec_Aug + BillAmt_Jun, data = train.data, proximity = TRUE) \n",
    "\n",
    "## running worst model for reference\n",
    "rf_model2 <- randomForest(as.factor(Y) ~ Gender + Marital + Age + Edu_Lvl, data = train.data, proximity = TRUE) "
   ]
  },
  {
   "cell_type": "code",
   "execution_count": null,
   "id": "9e607715",
   "metadata": {
    "vscode": {
     "languageId": "r"
    }
   },
   "outputs": [],
   "source": [
    "## forward feature selection\n",
    "rf_model <- randomForest(as.factor(Y) ~ Marital + Age + PayRec_Sep + PayRec_Aug + PayRec_Jul + PayRec_Jun + BillAmt_Sep + PaidAmt_Sep, data = train.data, proximity = TRUE) \n",
    "\n",
    "## testing and calculating the accuracy for the prediction model\n",
    "results_train <- predict(rf_model, train.data)\n",
    "results_test <- predict(rf_model, test.data)\n",
    "\n",
    "## Classifying based on the prediction model (train dataset)\n",
    "table(pred=results_train,actual=train.data$Y)\n",
    "mean(results_train == train.data$Y)\n",
    "\n",
    "## Classifying based on the prediction model (test dataset)\n",
    "table(pred=results_test,actual=test.data$Y)\n",
    "mean(results_test == test.data$Y)\n",
    "\n",
    "## for training set\n",
    "train.roc <- rocit(as.numeric(results_train), train.data$Y)\n",
    "train.roc\n",
    "plot(train.roc)\n",
    "\n",
    "## for test set\n",
    "test.roc <- rocit(as.numeric(results_test), test.data$Y)\n",
    "test.roc\n",
    "plot(test.roc)"
   ]
  },
  {
   "cell_type": "code",
   "execution_count": 67,
   "id": "9793f7ce",
   "metadata": {
    "vscode": {
     "languageId": "r"
    }
   },
   "outputs": [
    {
     "data": {
      "text/plain": [
       "    actual\n",
       "pred     0     1\n",
       "   0 11308  1860\n",
       "   1   348  1450"
      ]
     },
     "metadata": {},
     "output_type": "display_data"
    },
    {
     "data": {
      "text/html": [
       "0.852465588667647"
      ],
      "text/latex": [
       "0.852465588667647"
      ],
      "text/markdown": [
       "0.852465588667647"
      ],
      "text/plain": [
       "[1] 0.8524656"
      ]
     },
     "metadata": {},
     "output_type": "display_data"
    },
    {
     "data": {
      "text/plain": [
       "    actual\n",
       "pred     0     1\n",
       "   0 11075  2205\n",
       "   1   570  1116"
      ]
     },
     "metadata": {},
     "output_type": "display_data"
    },
    {
     "data": {
      "text/html": [
       "0.814579714018442"
      ],
      "text/latex": [
       "0.814579714018442"
      ],
      "text/markdown": [
       "0.814579714018442"
      ],
      "text/plain": [
       "[1] 0.8145797"
      ]
     },
     "metadata": {},
     "output_type": "display_data"
    },
    {
     "data": {
      "text/plain": [
       "                                 \n",
       " Method used: empirical          \n",
       " ===== Positive(s) =====         \n",
       " Number of positive(s): 3310     \n",
       " Mean of positive(s): 1.438      \n",
       " Variance of positive(s): 0.2462 \n",
       " ===== Negative(s) =====         \n",
       " Number of negative(s): 11656    \n",
       " Mean of negative(s): 1.03       \n",
       " Variance of negative(s): 0.02897\n",
       " ===== AUC =====                 \n",
       " Area under curve: 0.7041        \n",
       "                                 \n",
       " =========================       \n",
       "     FPR    TPR\n",
       " 0.00000 0.0000\n",
       " 0.02986 0.4381\n",
       " 1.00000 1.0000"
      ]
     },
     "metadata": {},
     "output_type": "display_data"
    },
    {
     "data": {
      "text/plain": [
       "                                 \n",
       " Method used: empirical          \n",
       " ===== Positive(s) =====         \n",
       " Number of positive(s): 3321     \n",
       " Mean of positive(s): 1.336      \n",
       " Variance of positive(s): 0.2232 \n",
       " ===== Negative(s) =====         \n",
       " Number of negative(s): 11645    \n",
       " Mean of negative(s): 1.049      \n",
       " Variance of negative(s): 0.04656\n",
       " ===== AUC =====                 \n",
       " Area under curve: 0.6435        \n",
       "                                 \n",
       " =========================       \n",
       "     FPR   TPR\n",
       " 0.00000 0.000\n",
       " 0.04895 0.336\n",
       " 1.00000 1.000"
      ]
     },
     "metadata": {},
     "output_type": "display_data"
    },
    {
     "data": {
      "image/png": "[encoded data removed]",
      "text/plain": [
       "plot without title"
      ]
     },
     "metadata": {},
     "output_type": "display_data"
    },
    {
     "data": {
      "image/png": "[encoded data removed]",
      "text/plain": [
       "plot without title"
      ]
     },
     "metadata": {},
     "output_type": "display_data"
    }
   ],
   "source": [
    "## Reviewing the results\n",
    "#rf_model\n",
    "#importance(rf_model)\n",
    "\n",
    "## testing and calculating the accuracy for the prediction model\n",
    "results_train <- predict(rf_model, train.data)\n",
    "results_test <- predict(rf_model, test.data)\n",
    "\n",
    "## Classifying based on the prediction model (train dataset)\n",
    "table(pred=results_train,actual=train.data$Y)\n",
    "mean(results_train == train.data$Y)\n",
    "\n",
    "## Classifying based on the prediction model (test dataset)\n",
    "table(pred=results_test,actual=test.data$Y)\n",
    "mean(results_test == test.data$Y)\n",
    "\n",
    "## for training set\n",
    "train.roc <- rocit(as.numeric(results_train), train.data$Y)\n",
    "train.roc\n",
    "plot(train.roc)\n",
    "\n",
    "## for test set\n",
    "test.roc <- rocit(as.numeric(results_test), test.data$Y)\n",
    "test.roc\n",
    "plot(test.roc)"
   ]
  },
  {
   "cell_type": "code",
   "execution_count": 68,
   "id": "9793f7ce",
   "metadata": {
    "vscode": {
     "languageId": "r"
    }
   },
   "outputs": [
    {
     "data": {
      "text/plain": [
       "    actual\n",
       "pred     0     1\n",
       "   0 11656  3305\n",
       "   1     0     5"
      ]
     },
     "metadata": {},
     "output_type": "display_data"
    },
    {
     "data": {
      "text/html": [
       "0.779166109848991"
      ],
      "text/latex": [
       "0.779166109848991"
      ],
      "text/markdown": [
       "0.779166109848991"
      ],
      "text/plain": [
       "[1] 0.7791661"
      ]
     },
     "metadata": {},
     "output_type": "display_data"
    },
    {
     "data": {
      "text/plain": [
       "    actual\n",
       "pred     0     1\n",
       "   0 11643  3320\n",
       "   1     2     1"
      ]
     },
     "metadata": {},
     "output_type": "display_data"
    },
    {
     "data": {
      "text/html": [
       "0.778030201790726"
      ],
      "text/latex": [
       "0.778030201790726"
      ],
      "text/markdown": [
       "0.778030201790726"
      ],
      "text/plain": [
       "[1] 0.7780302"
      ]
     },
     "metadata": {},
     "output_type": "display_data"
    },
    {
     "data": {
      "text/plain": [
       "                                  \n",
       " Method used: empirical           \n",
       " ===== Positive(s) =====          \n",
       " Number of positive(s): 3310      \n",
       " Mean of positive(s): 1.002       \n",
       " Variance of positive(s): 0.001509\n",
       " ===== Negative(s) =====          \n",
       " Number of negative(s): 11656     \n",
       " Mean of negative(s): 1           \n",
       " Variance of negative(s): 0       \n",
       " ===== AUC =====                  \n",
       " Area under curve: 0.5008         \n",
       "                                  \n",
       " =========================        \n",
       " FPR      TPR\n",
       "   0 0.000000\n",
       "   0 0.001511\n",
       "   1 1.000000"
      ]
     },
     "metadata": {},
     "output_type": "display_data"
    },
    {
     "data": {
      "text/plain": [
       "                                   \n",
       " Method used: empirical            \n",
       " ===== Positive(s) =====           \n",
       " Number of positive(s): 3321       \n",
       " Mean of positive(s): 1            \n",
       " Variance of positive(s): 0.0003011\n",
       " ===== Negative(s) =====           \n",
       " Number of negative(s): 11645      \n",
       " Mean of negative(s): 1            \n",
       " Variance of negative(s): 0.0001717\n",
       " ===== AUC =====                   \n",
       " Area under curve: 0.5001          \n",
       "                                   \n",
       " =========================         \n",
       "       FPR       TPR\n",
       " 0.0000000 0.0000000\n",
       " 0.0001717 0.0003011\n",
       " 1.0000000 1.0000000"
      ]
     },
     "metadata": {},
     "output_type": "display_data"
    },
    {
     "data": {
      "image/png": "[encoded data removed]",
      "text/plain": [
       "plot without title"
      ]
     },
     "metadata": {},
     "output_type": "display_data"
    },
    {
     "data": {
      "image/png": "[encoded data removed]",
      "text/plain": [
       "plot without title"
      ]
     },
     "metadata": {},
     "output_type": "display_data"
    }
   ],
   "source": [
    "## Reviewing the results\n",
    "#rf_model2\n",
    "#importance(rf_model2)\n",
    "\n",
    "## testing and calculating the accuracy for the prediction model\n",
    "results_train <- predict(rf_model2, train.data)\n",
    "results_test <- predict(rf_model2, test.data)\n",
    "\n",
    "## Classifying based on the prediction model (train dataset)\n",
    "table(pred=results_train,actual=train.data$Y)\n",
    "mean(results_train == train.data$Y)\n",
    "\n",
    "## Classifying based on the prediction model (test dataset)\n",
    "table(pred=results_test,actual=test.data$Y)\n",
    "mean(results_test == test.data$Y)\n",
    "\n",
    "## for training set\n",
    "train.roc <- rocit(as.numeric(results_train), train.data$Y)\n",
    "train.roc\n",
    "plot(train.roc)\n",
    "\n",
    "## for test set\n",
    "test.roc <- rocit(as.numeric(results_test), test.data$Y)\n",
    "test.roc\n",
    "plot(test.roc)"
   ]
  },
  {
   "cell_type": "code",
   "execution_count": 71,
   "id": "ad79e7ba",
   "metadata": {
    "vscode": {
     "languageId": "r"
    }
   },
   "outputs": [
    {
     "name": "stdout",
     "output_type": "stream",
     "text": [
      "mtry = 4  OOB error = 0% \n",
      "Searching left ...\n",
      "mtry = 3 \tOOB error = 0% \n",
      "NaN 0.01 \n"
     ]
    },
    {
     "ename": "ERROR",
     "evalue": "Error in if (Improve > improve) {: missing value where TRUE/FALSE needed\n",
     "output_type": "error",
     "traceback": [
      "Error in if (Improve > improve) {: missing value where TRUE/FALSE needed\nTraceback:\n",
      "1. tuneRF(train.data[-25], train.data$Y, ntreeTry = 500, stepFactor = 1.5, \n .     improve = 0.01, trace = TRUE, plot = TRUE)"
     ]
    }
   ],
   "source": [
    "# Number of variables selected at each split is denoted by mtry in randomforest\n",
    "# Find out optimal mtry, default is 4\n",
    "mtry <- tuneRF(train.data[-25],train.data$Y, ntreeTry=500,\n",
    "               stepFactor=1.5,improve=0.01, trace=TRUE, plot=TRUE)\n",
    "best.m <- mtry[mtry[, 2] == min(mtry[, 2]), 1]\n",
    "print(mtry)\n",
    "print(best.m)"
   ]
  },
  {
   "cell_type": "markdown",
   "id": "04872e62",
   "metadata": {},
   "source": [
    "We selected the best model and describe the best model accordingly. "
   ]
  }
 ],
 "metadata": {
  "kernelspec": {
   "display_name": "R",
   "language": "R",
   "name": "ir"
  },
  "language_info": {
   "codemirror_mode": "r",
   "file_extension": ".r",
   "mimetype": "text/x-r-source",
   "name": "R",
   "pygments_lexer": "r",
   "version": "3.6.1"
  }
 },
 "nbformat": 4,
 "nbformat_minor": 5
}
